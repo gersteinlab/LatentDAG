{
 "cells": [
  {
   "cell_type": "code",
   "execution_count": null,
   "id": "c319416d",
   "metadata": {},
   "outputs": [],
   "source": [
    "import numpy as np\n",
    "import pandas as pd\n",
    "import joblib\n",
    "from sklearn.metrics import mean_squared_error"
   ]
  },
  {
   "cell_type": "markdown",
   "id": "65f268cf",
   "metadata": {},
   "source": [
    "### data"
   ]
  },
  {
   "cell_type": "code",
   "execution_count": null,
   "id": "a57b8cec",
   "metadata": {},
   "outputs": [],
   "source": [
    "X_train = pd.read_csv(\"../result/data/X_train\", sep=\"\\t\", header=None).values\n",
    "X_valid = pd.read_csv(\"../result/data/X_valid\", sep=\"\\t\", header=None).values\n",
    "X_test = pd.read_csv(\"../result/data/X_test\", sep=\"\\t\", header=None).values\n",
    "Y_train = pd.read_csv(\"../result/data/Y_train\", sep=\"\\t\", header=None).values.reshape(-1) * 1000\n",
    "Y_valid = pd.read_csv(\"../result/data/Y_valid\", sep=\"\\t\", header=None).values.reshape(-1) * 1000\n",
    "Y_test = pd.read_csv(\"../result/data/Y_test\", sep=\"\\t\", header=None).values.reshape(-1) * 1000"
   ]
  },
  {
   "cell_type": "markdown",
   "id": "184eec05",
   "metadata": {},
   "source": [
    "### Linear"
   ]
  },
  {
   "cell_type": "code",
   "execution_count": null,
   "id": "50ae4059",
   "metadata": {},
   "outputs": [],
   "source": [
    "from sklearn.linear_model import LinearRegression"
   ]
  },
  {
   "cell_type": "code",
   "execution_count": null,
   "id": "2f4f812d",
   "metadata": {},
   "outputs": [],
   "source": [
    "lr = LinearRegression()\n",
    "lr.fit(np.concatenate([X_train, X_valid]), np.concatenate([Y_train, Y_valid]))\n",
    "Y_pred = lr.predict(X_test)\n",
    "mean_squared_error(Y_test, Y_pred)"
   ]
  },
  {
   "cell_type": "markdown",
   "id": "5b5b4bf0",
   "metadata": {},
   "source": [
    "### Lasso"
   ]
  },
  {
   "cell_type": "code",
   "execution_count": null,
   "id": "56991011",
   "metadata": {},
   "outputs": [],
   "source": [
    "from sklearn.linear_model import Lasso"
   ]
  },
  {
   "cell_type": "code",
   "execution_count": null,
   "id": "cb70d605",
   "metadata": {},
   "outputs": [],
   "source": [
    "para_list = np.arange(0.1,5,0.1)\n",
    "\n",
    "mse_list = []\n",
    "for alpha in para_list:\n",
    "    lr = Lasso(alpha=alpha)\n",
    "    lr.fit(X_train, Y_train)\n",
    "    y_valid_pred = lr.predict(X_valid)\n",
    "    mse_list.append(mean_squared_error(Y_valid, y_valid_pred))"
   ]
  },
  {
   "cell_type": "code",
   "execution_count": null,
   "id": "3316251f",
   "metadata": {},
   "outputs": [],
   "source": [
    "best_para = para_list[np.argmin(mse_list)]"
   ]
  },
  {
   "cell_type": "code",
   "execution_count": null,
   "id": "65eba58f",
   "metadata": {},
   "outputs": [],
   "source": [
    "lr = Lasso(alpha=best_para)\n",
    "lr.fit(np.concatenate([X_train, X_valid]), np.concatenate([Y_train, Y_valid]))\n",
    "Y_pred = lr.predict(X_test)\n",
    "mean_squared_error(Y_test, Y_pred)"
   ]
  },
  {
   "cell_type": "code",
   "execution_count": null,
   "id": "c82be049",
   "metadata": {},
   "outputs": [],
   "source": [
    "joblib.dump(lr, '../result/model/LR.joblib') "
   ]
  }
 ],
 "metadata": {
  "kernelspec": {
   "display_name": "Python 3 (ipykernel)",
   "language": "python",
   "name": "python3"
  },
  "language_info": {
   "codemirror_mode": {
    "name": "ipython",
    "version": 3
   },
   "file_extension": ".py",
   "mimetype": "text/x-python",
   "name": "python",
   "nbconvert_exporter": "python",
   "pygments_lexer": "ipython3",
   "version": "3.10.8"
  }
 },
 "nbformat": 4,
 "nbformat_minor": 5
}
