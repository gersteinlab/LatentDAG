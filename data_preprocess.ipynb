{
 "cells": [
  {
   "cell_type": "code",
   "execution_count": null,
   "id": "216ea621",
   "metadata": {},
   "outputs": [],
   "source": [
    "import pandas as pd\n",
    "import scanpy as sc\n",
    "import numpy as np\n",
    "\n",
    "from sklearn.preprocessing import StandardScaler\n",
    "from sklearn.model_selection import train_test_split"
   ]
  },
  {
   "cell_type": "markdown",
   "id": "9ffbd87f",
   "metadata": {},
   "source": [
    "### X"
   ]
  },
  {
   "cell_type": "code",
   "execution_count": null,
   "id": "2cc5a5f0",
   "metadata": {},
   "outputs": [],
   "source": [
    "df = pd.read_csv(\"../data/perturb/clustered_mean_gene_expression_figs2-4.csv\", sep=\",\", index_col=0, low_memory=False)\n",
    "df = df.iloc[2:, 1:]\n",
    "# convert perturb name to perturb gene name\n",
    "df.columns = pd.DataFrame(df.columns)[0].str.split(\"_\", expand=True)[1].values\n",
    "\n",
    "# take mean of two experiment if perturb genes is the same\n",
    "df = df.T\n",
    "df.index.name = 'perturb'\n",
    "df = df.groupby('perturb').mean()\n",
    "df = df.sort_index()\n",
    "col_names = list(df.columns)\n",
    "col_names.sort()\n",
    "df = df.loc[:, col_names]\n",
    "# the perturbed gene is set to have 0 expression\n",
    "df = df.fillna(0).T\n",
    "\n",
    "df.index.name = None\n",
    "df.columns.name = None\n",
    "df.to_csv(\"../result/data/df_gene_perturb\", sep=\"\\t\")\n",
    "X = df.values\n",
    "np.savetxt(\"../result/data/X_gene_perturb\", X)\n",
    "pd.DataFrame(df.index).to_csv(\"../result/data/genes_gene_perturb\", header=False, index=False)"
   ]
  },
  {
   "cell_type": "markdown",
   "id": "9aa33993",
   "metadata": {},
   "source": [
    "### Y"
   ]
  },
  {
   "cell_type": "code",
   "execution_count": null,
   "id": "10504786",
   "metadata": {},
   "outputs": [],
   "source": [
    "data = sc.read_h5ad(\"../data/perturb/K562_gwps_normalized_bulk_01.h5ad\")\n",
    "ctrl_id = list(data.obs[data.obs['core_control']].index)\n",
    "# take mean of ctrl experiments\n",
    "ctrl_exp = data.to_df().loc[ctrl_id, :].mean()\n",
    "ctrl_exp.index = ctrl_exp.index.map(data.var['gene_name'].to_dict())\n",
    "Y = ctrl_exp[list(df.index)].groupby('gene_id').mean()[list(df.index)].values\n",
    "np.savetxt(\"../result/data/Y_gene_perturb\", Y)"
   ]
  },
  {
   "cell_type": "markdown",
   "id": "ee902d06",
   "metadata": {},
   "source": [
    "### train_test_split"
   ]
  },
  {
   "cell_type": "code",
   "execution_count": null,
   "id": "cffcd7f2",
   "metadata": {},
   "outputs": [],
   "source": [
    "X = np.loadtxt(\"/home/jg2447/slayman/perturb/result/data/X_gene_perturb\")\n",
    "Y = np.loadtxt(\"/home/jg2447/slayman/perturb/result/data/Y_gene_perturb\")\n",
    "\n",
    "X2, X_test, Y2, Y_test = train_test_split(X, Y, test_size=0.1, random_state=100)\n",
    "X_train, X_valid, Y_train, Y_valid = train_test_split(X2, Y2, test_size=0.2222, random_state=100)"
   ]
  },
  {
   "cell_type": "code",
   "execution_count": null,
   "id": "4bdbc6bd",
   "metadata": {},
   "outputs": [],
   "source": [
    "pd.DataFrame(X_train).to_csv(\"../result/data/X_train\", sep=\"\\t\", header=False, index=False)\n",
    "pd.DataFrame(X_valid).to_csv(\"../result/data/X_valid\", sep=\"\\t\", header=False, index=False)\n",
    "pd.DataFrame(X_test).to_csv(\"../result/data/X_test\", sep=\"\\t\", header=False, index=False)\n",
    "pd.DataFrame(Y_train).to_csv(\"../result/data/Y_train\", sep=\"\\t\", header=False, index=False)\n",
    "pd.DataFrame(Y_valid).to_csv(\"../result/data/Y_valid\", sep=\"\\t\", header=False, index=False)\n",
    "pd.DataFrame(Y_test).to_csv(\"../result/data/Y_test\", sep=\"\\t\", header=False, index=False)"
   ]
  },
  {
   "cell_type": "markdown",
   "id": "4debcc59",
   "metadata": {},
   "source": [
    "### save gene name in the order of X in the model"
   ]
  },
  {
   "cell_type": "code",
   "execution_count": null,
   "id": "f5a1d7f8",
   "metadata": {},
   "outputs": [],
   "source": [
    "genes = pd.read_csv(\"../result/data/genes_gene_perturb\", header=None)[0].values\n",
    "X = np.loadtxt(\"/home/jg2447/slayman/perturb/result/data/X_gene_perturb\")\n",
    "Y = np.loadtxt(\"/home/jg2447/slayman/perturb/result/data/Y_gene_perturb\")\n",
    "X_df = pd.DataFrame(X)\n",
    "X_df.index = genes\n",
    "X2_2, X_test_2, Y2_2, Y_test_2 = train_test_split(X_df, Y, test_size=0.1, random_state=100)\n",
    "X_train_2, X_valid_2, Y_train_2, Y_valid_2 = train_test_split(X2_2, Y2_2, test_size=0.2222, random_state=100)\n",
    "genes = list(X_train_2.index) + list(X_valid_2.index) + list(X_test_2.index)\n",
    "pd.DataFrame(genes).to_csv(\"../result/X1.gene\", header=False, index=False)"
   ]
  }
 ],
 "metadata": {
  "kernelspec": {
   "display_name": "Python 3 (ipykernel)",
   "language": "python",
   "name": "python3"
  },
  "language_info": {
   "codemirror_mode": {
    "name": "ipython",
    "version": 3
   },
   "file_extension": ".py",
   "mimetype": "text/x-python",
   "name": "python",
   "nbconvert_exporter": "python",
   "pygments_lexer": "ipython3",
   "version": "3.10.8"
  }
 },
 "nbformat": 4,
 "nbformat_minor": 5
}
