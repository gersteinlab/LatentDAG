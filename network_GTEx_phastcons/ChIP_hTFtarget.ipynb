{
 "cells": [
  {
   "cell_type": "code",
   "execution_count": 1,
   "id": "128148f6",
   "metadata": {},
   "outputs": [],
   "source": [
    "import pandas as pd\n",
    "import scanpy as sc"
   ]
  },
  {
   "cell_type": "code",
   "execution_count": 2,
   "id": "25cdef7e",
   "metadata": {},
   "outputs": [],
   "source": [
    "genes = pd.read_csv(\"../../result/network_GTEx_phastcons/valid_genes\", sep=\"\\t\")\n",
    "genes2id = genes.set_index(\"genes\")[\"ID\"].to_dict()\n",
    "genes = genes['genes'].values"
   ]
  },
  {
   "cell_type": "code",
   "execution_count": 3,
   "id": "f9483b3b",
   "metadata": {},
   "outputs": [],
   "source": [
    "db = pd.read_csv(\"../../data/hTFtarget/TF-Target-information.txt\", sep=\"\\t\")\n",
    "db = db.loc[:, [\"TF\", \"target\"]].drop_duplicates()"
   ]
  },
  {
   "cell_type": "code",
   "execution_count": 13,
   "id": "ec80f361",
   "metadata": {},
   "outputs": [],
   "source": [
    "# convert to gene ensembl_ID\n",
    "data = sc.read_h5ad(\"../../data/perturb/K562_gwps_normalized_bulk_01.h5ad\")\n",
    "name2id = data.var[\"gene_name\"].to_frame().reset_index().set_index(\"gene_name\")[\"gene_id\"].to_dict()\n",
    "db[\"TF\"] = db[\"TF\"].map(name2id)\n",
    "db[\"target\"] = db[\"target\"].map(name2id)"
   ]
  },
  {
   "cell_type": "code",
   "execution_count": 15,
   "id": "250a1fe5",
   "metadata": {},
   "outputs": [],
   "source": [
    "db = db[db['TF'].isin(genes)]\n",
    "db = db[db['target'].isin(genes)].copy()"
   ]
  },
  {
   "cell_type": "code",
   "execution_count": 16,
   "id": "0dcb48d3",
   "metadata": {},
   "outputs": [],
   "source": [
    "db['TF'] = db['TF'].map(genes2id)\n",
    "db['target'] = db['target'].map(genes2id)"
   ]
  },
  {
   "cell_type": "code",
   "execution_count": 17,
   "id": "8b4ff8a0",
   "metadata": {},
   "outputs": [],
   "source": [
    "db = db.drop_duplicates().sort_values(['TF', 'target'])"
   ]
  },
  {
   "cell_type": "code",
   "execution_count": 19,
   "id": "23620c60",
   "metadata": {},
   "outputs": [],
   "source": [
    "db.to_csv(\"../../result/network_GTEx_phastcons/ChIP_hTFtarget.tsv\", sep=\"\\t\", header=False, index=False)"
   ]
  }
 ],
 "metadata": {
  "kernelspec": {
   "display_name": "Python 3 (ipykernel)",
   "language": "python",
   "name": "python3"
  },
  "language_info": {
   "codemirror_mode": {
    "name": "ipython",
    "version": 3
   },
   "file_extension": ".py",
   "mimetype": "text/x-python",
   "name": "python",
   "nbconvert_exporter": "python",
   "pygments_lexer": "ipython3",
   "version": "3.10.8"
  }
 },
 "nbformat": 4,
 "nbformat_minor": 5
}
