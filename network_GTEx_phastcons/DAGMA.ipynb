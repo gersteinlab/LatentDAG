{
 "cells": [
  {
   "cell_type": "code",
   "execution_count": 1,
   "id": "03ab3afe",
   "metadata": {},
   "outputs": [],
   "source": [
    "import numpy as np\n",
    "import pandas as pd\n",
    "import sys\n",
    "sys.path.insert(1, '/home/jg2447/slayman/perturb/dagma/')\n",
    "from dagma_linear import DAGMA_linear\n",
    "from utils import is_dag"
   ]
  },
  {
   "cell_type": "code",
   "execution_count": 2,
   "id": "b4be4975",
   "metadata": {},
   "outputs": [],
   "source": [
    "X = pd.read_csv(\"../../result/input_GTEx_phastcons/X\", sep=\"\\t\", index_col=0)\n",
    "X = X.T.values"
   ]
  },
  {
   "cell_type": "markdown",
   "id": "3a76f7c5",
   "metadata": {},
   "source": [
    "### run DAGMA without threshold"
   ]
  },
  {
   "cell_type": "code",
   "execution_count": null,
   "id": "97c2cf75",
   "metadata": {},
   "outputs": [],
   "source": [
    "# remove line 140 in the dagma_linear.py source code to remove original threshold\n",
    "# you could also set a large value for the w_threshold in dagma_model.fit()\n",
    "dagma_model = DAGMA_linear(loss_type='l2')\n",
    "W_est = dagma_model.fit(X, lambda1=0.02)\n",
    "pd.DataFrame(W_est).to_csv('../../result/network_GTEx_phastcons/DAGMA_w_est.csv', sep=\"\\t\", index=False, header=False)"
   ]
  },
  {
   "cell_type": "markdown",
   "id": "6ffba423",
   "metadata": {},
   "source": [
    "### custom threshold"
   ]
  },
  {
   "cell_type": "code",
   "execution_count": 3,
   "id": "474a8163",
   "metadata": {},
   "outputs": [],
   "source": [
    "W_est = pd.read_csv(\"../../result/network_GTEx_phastcons/DAGMA_w_est.csv\", sep=\"\\t\", header=None).values"
   ]
  },
  {
   "cell_type": "markdown",
   "id": "9138bd8b",
   "metadata": {},
   "source": [
    "###### fix threshold 0.3"
   ]
  },
  {
   "cell_type": "code",
   "execution_count": 4,
   "id": "cf421400",
   "metadata": {},
   "outputs": [
    {
     "data": {
      "text/plain": [
       "True"
      ]
     },
     "execution_count": 4,
     "metadata": {},
     "output_type": "execute_result"
    }
   ],
   "source": [
    "W_est_final = W_est.copy()\n",
    "W_est_final[np.abs(W_est) < 0.3] = 0\n",
    "is_dag(W_est_final)"
   ]
  },
  {
   "cell_type": "code",
   "execution_count": null,
   "id": "f78d52e3",
   "metadata": {},
   "outputs": [],
   "source": [
    "edge_list = np.array(list(zip(*np.nonzero(W_est_final))))\n",
    "edge_index = pd.DataFrame(edge_list)\n",
    "edge_index.to_csv(\"../../result/network_GTEx_phastcons/DAGMA_threshold0.3.tsv\", sep=\"\\t\", header=False, index=False)"
   ]
  },
  {
   "cell_type": "markdown",
   "id": "92d108d7",
   "metadata": {},
   "source": [
    "###### slightly decrease the threshold until W_est_final is no longer a DAG"
   ]
  },
  {
   "cell_type": "code",
   "execution_count": null,
   "id": "a0891d76",
   "metadata": {},
   "outputs": [],
   "source": [
    "W_est_final = W_est.copy()\n",
    "W_est_final[np.abs(W_est) < 0.09410482] = 0\n",
    "is_dag(W_est_final)"
   ]
  },
  {
   "cell_type": "code",
   "execution_count": null,
   "id": "c463cef8",
   "metadata": {},
   "outputs": [],
   "source": [
    "edge_list = np.array(list(zip(*np.nonzero(W_est_final))))\n",
    "edge_index = pd.DataFrame(edge_list)\n",
    "edge_index.to_csv(\"../../result/network_GTEx_phastcons/DAGMA_thresholdAdaptive.tsv\", sep=\"\\t\", header=False, index=False)"
   ]
  }
 ],
 "metadata": {
  "kernelspec": {
   "display_name": "Python 3 (ipykernel)",
   "language": "python",
   "name": "python3"
  },
  "language_info": {
   "codemirror_mode": {
    "name": "ipython",
    "version": 3
   },
   "file_extension": ".py",
   "mimetype": "text/x-python",
   "name": "python",
   "nbconvert_exporter": "python",
   "pygments_lexer": "ipython3",
   "version": "3.8.16"
  }
 },
 "nbformat": 4,
 "nbformat_minor": 5
}
