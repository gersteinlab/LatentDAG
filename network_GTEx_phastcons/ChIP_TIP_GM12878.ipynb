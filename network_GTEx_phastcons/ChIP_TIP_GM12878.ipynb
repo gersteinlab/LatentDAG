{
 "cells": [
  {
   "cell_type": "code",
   "execution_count": 1,
   "id": "c920e317",
   "metadata": {},
   "outputs": [],
   "source": [
    "import os\n",
    "import pandas as pd\n",
    "import scanpy as sc"
   ]
  },
  {
   "cell_type": "code",
   "execution_count": 2,
   "id": "43e8efcf",
   "metadata": {},
   "outputs": [],
   "source": [
    "genes = pd.read_csv(\"../../result/network_GTEx_phastcons/valid_genes\", sep=\"\\t\")\n",
    "id2genes = genes.set_index(\"ID\")[\"genes\"].to_dict()\n",
    "genes2id = genes.set_index(\"genes\")[\"ID\"].to_dict()\n",
    "genes = genes['genes'].values"
   ]
  },
  {
   "cell_type": "code",
   "execution_count": 3,
   "id": "38f0a591",
   "metadata": {},
   "outputs": [],
   "source": [
    "meta = pd.read_csv(\"../../data/TIP/metadata.tsv\", sep=\"\\t\")\n",
    "meta['TF'] = meta['Experiment target'].str.split(\"-human\", expand=True)[0]\n",
    "\n",
    "data = sc.read_h5ad(\"../../data/perturb/K562_gwps_normalized_bulk_01.h5ad\")\n",
    "name2id = data.var[\"gene_name\"].to_frame().reset_index().set_index(\"gene_name\")[\"gene_id\"].to_dict()\n",
    "meta['TFname'] = meta['TF'].map(name2id)\n",
    "\n",
    "meta = meta[meta['TFname'].isin(genes)] # keep TF in genes only\n",
    "meta = meta[meta['Output type'] == \"IDR thresholded peaks\"]\n",
    "meta = meta[meta['Biosample term name'] == \"GM12878\"] # filter for GM12878 only"
   ]
  },
  {
   "cell_type": "code",
   "execution_count": 4,
   "id": "24648bae",
   "metadata": {},
   "outputs": [
    {
     "name": "stdout",
     "output_type": "stream",
     "text": [
      "36 36\n"
     ]
    }
   ],
   "source": [
    "all_files = os.listdir(\"../../data/TIP/weight/\")\n",
    "all_files = set([ii.split(\".txt\")[0] for ii in all_files])\n",
    "sample_files = set(meta['File accession'])\n",
    "print(len(sample_files), len(set.intersection(sample_files, all_files))) # GM12878 is a subset of all"
   ]
  },
  {
   "cell_type": "markdown",
   "id": "07f9f990",
   "metadata": {},
   "source": [
    "### parse result to network"
   ]
  },
  {
   "cell_type": "code",
   "execution_count": 10,
   "id": "0139fa69",
   "metadata": {},
   "outputs": [],
   "source": [
    "meta = pd.read_csv(\"../../data/TIP/meta_GTEx.tsv\", sep=\"\\t\")\n",
    "meta = meta[meta['File accession'].isin(sample_files)]"
   ]
  },
  {
   "cell_type": "code",
   "execution_count": 11,
   "id": "e4d112f4",
   "metadata": {},
   "outputs": [],
   "source": [
    "result = {}\n",
    "for fid, TF in meta.values:\n",
    "    df = pd.read_csv(\"../../data/TIP/qval/%s.txt\" % fid, sep=\"\\t\")\n",
    "    targets = set(df['name'].unique())\n",
    "    if TF in result.keys():\n",
    "        result[TF] = set.union(result[TF], targets)\n",
    "    else:\n",
    "        result[TF] = targets"
   ]
  },
  {
   "cell_type": "code",
   "execution_count": 12,
   "id": "c0906ebd",
   "metadata": {},
   "outputs": [],
   "source": [
    "source = []\n",
    "target = []\n",
    "for ii in result.keys():\n",
    "    source += [ii] * len(result[ii])\n",
    "    target += list(result[ii])"
   ]
  },
  {
   "cell_type": "code",
   "execution_count": 13,
   "id": "d10c2508",
   "metadata": {},
   "outputs": [],
   "source": [
    "net = pd.DataFrame([source, target]).T\n",
    "\n",
    "net[0] = net[0].map(genes2id)\n",
    "net[1] = net[1].map(genes2id)\n",
    "\n",
    "net = net.dropna().copy()\n",
    "net[0] = net[0].astype(int)\n",
    "net[1] = net[1].astype(int)"
   ]
  },
  {
   "cell_type": "code",
   "execution_count": 14,
   "id": "89cd46be",
   "metadata": {},
   "outputs": [],
   "source": [
    "net = net.drop_duplicates().sort_values([0, 1])\n",
    "net.to_csv(\"../../result/network_GTEx_phastcons/ChIP_TIP_GM12878.tsv\", sep=\"\\t\", header=False, index=False)"
   ]
  }
 ],
 "metadata": {
  "kernelspec": {
   "display_name": "Python 3 (ipykernel)",
   "language": "python",
   "name": "python3"
  },
  "language_info": {
   "codemirror_mode": {
    "name": "ipython",
    "version": 3
   },
   "file_extension": ".py",
   "mimetype": "text/x-python",
   "name": "python",
   "nbconvert_exporter": "python",
   "pygments_lexer": "ipython3",
   "version": "3.10.8"
  }
 },
 "nbformat": 4,
 "nbformat_minor": 5
}
