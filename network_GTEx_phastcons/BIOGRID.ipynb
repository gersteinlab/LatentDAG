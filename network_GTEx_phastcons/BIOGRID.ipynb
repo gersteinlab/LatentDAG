{
 "cells": [
  {
   "cell_type": "code",
   "execution_count": 1,
   "id": "4cd8c4e0",
   "metadata": {},
   "outputs": [],
   "source": [
    "import pandas as pd"
   ]
  },
  {
   "cell_type": "code",
   "execution_count": 2,
   "id": "choice-layout",
   "metadata": {},
   "outputs": [],
   "source": [
    "# biogrid data, physical interactions\n",
    "# entrez id to ensembl id\n",
    "edge_list = pd.read_csv(\"../../data/BIOGRID/BIOGRID-ORGANISM-Homo_sapiens-4.4.218.tab3.txt\", sep=\"\\t\", low_memory=False)\n",
    "ensembl2entrez = pd.read_csv(\"../../data/Ensembl/Ensembl2Entrez.txt\", sep=\"\\t\", header=None).dropna().copy()\n",
    "ensembl2entrez[1] = ensembl2entrez[1].astype(int)\n",
    "entrez2ensembl_dict = ensembl2entrez.set_index(1)[0].to_dict()\n",
    "edge_list = edge_list[edge_list['Entrez Gene Interactor A'].apply(lambda x: str(x).isdigit())]\n",
    "edge_list = edge_list[edge_list['Entrez Gene Interactor B'].apply(lambda x: str(x).isdigit())]\n",
    "edge_list[0] = edge_list['Entrez Gene Interactor A'].astype(int).map(entrez2ensembl_dict)\n",
    "edge_list[1] = edge_list['Entrez Gene Interactor B'].astype(int).map(entrez2ensembl_dict)\n",
    "edge_list = edge_list[edge_list['Experimental System Type'] == \"physical\"].copy()\n",
    "edge_list = edge_list.loc[:, [0, 1]].dropna()\n",
    "edge_list = edge_list[edge_list[0] != edge_list[1]].copy() # remove self loop"
   ]
  },
  {
   "cell_type": "code",
   "execution_count": 3,
   "id": "marine-universal",
   "metadata": {},
   "outputs": [],
   "source": [
    "# valid genes\n",
    "genes = pd.read_csv(\"../../result/network_GTEx_phastcons/valid_genes\", sep=\"\\t\")\n",
    "id2genes = genes.set_index(\"ID\")[\"genes\"].to_dict()\n",
    "genes2id = genes.set_index(\"genes\")[\"ID\"].to_dict()\n",
    "genes = genes['genes'].values"
   ]
  },
  {
   "cell_type": "code",
   "execution_count": 4,
   "id": "bulgarian-cathedral",
   "metadata": {},
   "outputs": [],
   "source": [
    "# keep valid genes\n",
    "edge_list = edge_list[edge_list[0].isin(genes)]\n",
    "edge_list = edge_list[edge_list[1].isin(genes)]"
   ]
  },
  {
   "cell_type": "code",
   "execution_count": 5,
   "id": "featured-error",
   "metadata": {},
   "outputs": [],
   "source": [
    "# convert to number ID\n",
    "edge_list[0] = edge_list[0].map(genes2id)\n",
    "edge_list[1] = edge_list[1].map(genes2id)"
   ]
  },
  {
   "cell_type": "code",
   "execution_count": 6,
   "id": "0605ecef",
   "metadata": {},
   "outputs": [],
   "source": [
    "# uniq & sort\n",
    "edge_list = edge_list.drop_duplicates().sort_values([0, 1])"
   ]
  },
  {
   "cell_type": "code",
   "execution_count": 8,
   "id": "vocational-seeker",
   "metadata": {},
   "outputs": [],
   "source": [
    "edge_list.to_csv(\"../../result/network_GTEx_phastcons/BIOGRID.tsv\", sep=\"\\t\", header=False, index=False)"
   ]
  }
 ],
 "metadata": {
  "kernelspec": {
   "display_name": "Python 3 (ipykernel)",
   "language": "python",
   "name": "python3"
  },
  "language_info": {
   "codemirror_mode": {
    "name": "ipython",
    "version": 3
   },
   "file_extension": ".py",
   "mimetype": "text/x-python",
   "name": "python",
   "nbconvert_exporter": "python",
   "pygments_lexer": "ipython3",
   "version": "3.8.16"
  }
 },
 "nbformat": 4,
 "nbformat_minor": 5
}
