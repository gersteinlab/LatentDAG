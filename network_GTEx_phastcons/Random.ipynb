{
 "cells": [
  {
   "cell_type": "code",
   "execution_count": 1,
   "id": "0b3c3507",
   "metadata": {},
   "outputs": [],
   "source": [
    "import pandas as pd\n",
    "import numpy as np\n",
    "import sys\n",
    "sys.path.insert(1, '/home/jg2447/slayman/perturb/dagma/')\n",
    "from utils import *"
   ]
  },
  {
   "cell_type": "code",
   "execution_count": 2,
   "id": "71e8f5a7",
   "metadata": {},
   "outputs": [],
   "source": [
    "X = pd.read_csv(\"../../result/input_GTEx_phastcons/X\", sep=\"\\t\", index_col=0)\n",
    "size = pd.read_csv(\"../../result/network_GTEx_phastcons/ChIP_hTFtarget.tsv\", sep=\"\\t\", header=None).shape[0]"
   ]
  },
  {
   "cell_type": "code",
   "execution_count": 3,
   "id": "cdc88514",
   "metadata": {},
   "outputs": [],
   "source": [
    "network = simulate_dag(X.shape[0], size, \"ER\")\n",
    "edge_index = pd.DataFrame(np.array(list(zip(*np.nonzero(network)))))\n",
    "edge_index.to_csv(\"../../result/network_GTEx_phastcons/Random_ER.tsv\", sep=\"\\t\", header=False, index=False)"
   ]
  },
  {
   "cell_type": "code",
   "execution_count": 4,
   "id": "23af7707",
   "metadata": {},
   "outputs": [],
   "source": [
    "network = simulate_dag(X.shape[0], size, \"SF\")\n",
    "edge_index = pd.DataFrame(np.array(list(zip(*np.nonzero(network)))))\n",
    "edge_index.to_csv(\"../../result/network_GTEx_phastcons/Random_SF.tsv\", sep=\"\\t\", header=False, index=False)"
   ]
  }
 ],
 "metadata": {
  "kernelspec": {
   "display_name": "Python 3 (ipykernel)",
   "language": "python",
   "name": "python3"
  },
  "language_info": {
   "codemirror_mode": {
    "name": "ipython",
    "version": 3
   },
   "file_extension": ".py",
   "mimetype": "text/x-python",
   "name": "python",
   "nbconvert_exporter": "python",
   "pygments_lexer": "ipython3",
   "version": "3.8.16"
  }
 },
 "nbformat": 4,
 "nbformat_minor": 5
}
