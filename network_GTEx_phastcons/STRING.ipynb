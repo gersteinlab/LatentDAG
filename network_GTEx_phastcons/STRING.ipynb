{
 "cells": [
  {
   "cell_type": "code",
   "execution_count": 1,
   "id": "2fc94b6f",
   "metadata": {},
   "outputs": [],
   "source": [
    "import pandas as pd"
   ]
  },
  {
   "cell_type": "code",
   "execution_count": 2,
   "id": "b86cda1d",
   "metadata": {},
   "outputs": [],
   "source": [
    "# convert to Ensembl protein ID\n",
    "links = pd.read_csv(\"../../data/STRING/9606.protein.physical.links.v11.5.txt\", sep=\" \")\n",
    "links['protein1'] = links['protein1'].str.split(\"9606.\", expand=True)[1]\n",
    "links['protein2'] = links['protein2'].str.split(\"9606.\", expand=True)[1]"
   ]
  },
  {
   "cell_type": "code",
   "execution_count": 3,
   "id": "d6ef2196",
   "metadata": {},
   "outputs": [],
   "source": [
    "# convert Ensembl protein ID to Ensembl gene ID\n",
    "eP2eG = pd.read_csv(\"../../data/Ensembl/EnsemblP2EnsemblG.txt\", sep=\"\\t\", header=None).dropna().copy()\n",
    "eP2eG = eP2eG.set_index(0)[1].to_dict()\n",
    "links['protein1'] = links['protein1'].map(eP2eG)\n",
    "links['protein2'] = links['protein2'].map(eP2eG)\n",
    "links = links.dropna().copy()\n",
    "links = links[links['protein1'] != links['protein2']].copy() # remove self loop"
   ]
  },
  {
   "cell_type": "code",
   "execution_count": 4,
   "id": "f28290a1",
   "metadata": {},
   "outputs": [],
   "source": [
    "# valid genes\n",
    "genes = pd.read_csv(\"../../result/network_GTEx_phastcons/valid_genes\", sep=\"\\t\")\n",
    "id2genes = genes.set_index(\"ID\")[\"genes\"].to_dict()\n",
    "genes2id = genes.set_index(\"genes\")[\"ID\"].to_dict()\n",
    "genes = genes['genes'].values"
   ]
  },
  {
   "cell_type": "code",
   "execution_count": 5,
   "id": "d42baecf",
   "metadata": {},
   "outputs": [],
   "source": [
    "# keep valid genes\n",
    "links = links[links[\"protein1\"].isin(genes)]\n",
    "links = links[links[\"protein2\"].isin(genes)]"
   ]
  },
  {
   "cell_type": "code",
   "execution_count": 6,
   "id": "df5e5cf7",
   "metadata": {},
   "outputs": [],
   "source": [
    "# convert to number ID\n",
    "links[\"protein1\"] = links[\"protein1\"].map(genes2id)\n",
    "links[\"protein2\"] = links[\"protein2\"].map(genes2id)"
   ]
  },
  {
   "cell_type": "code",
   "execution_count": 7,
   "id": "20819cbf",
   "metadata": {},
   "outputs": [],
   "source": [
    "# uniq and sort\n",
    "links = links.groupby([\"protein1\", \"protein2\"]).mean().reset_index()\n",
    "links = links.sort_values(['protein1', 'protein2'])"
   ]
  },
  {
   "cell_type": "code",
   "execution_count": 10,
   "id": "c7310bd5",
   "metadata": {},
   "outputs": [],
   "source": [
    "links.to_csv(\"../../result/network_GTEx_phastcons/STRING_withScore.tsv\", sep=\"\\t\", header=False, index=False)\n",
    "links.iloc[:, :2].to_csv(\"../../result/network_GTEx_phastcons/STRING.tsv\", sep=\"\\t\", header=False, index=False)"
   ]
  }
 ],
 "metadata": {
  "kernelspec": {
   "display_name": "Python 3 (ipykernel)",
   "language": "python",
   "name": "python3"
  },
  "language_info": {
   "codemirror_mode": {
    "name": "ipython",
    "version": 3
   },
   "file_extension": ".py",
   "mimetype": "text/x-python",
   "name": "python",
   "nbconvert_exporter": "python",
   "pygments_lexer": "ipython3",
   "version": "3.8.16"
  }
 },
 "nbformat": 4,
 "nbformat_minor": 5
}
