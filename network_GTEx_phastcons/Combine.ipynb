{
 "cells": [
  {
   "cell_type": "code",
   "execution_count": 1,
   "id": "155c497c",
   "metadata": {},
   "outputs": [],
   "source": [
    "import pandas as pd"
   ]
  },
  {
   "cell_type": "code",
   "execution_count": 2,
   "id": "4784454a",
   "metadata": {},
   "outputs": [],
   "source": [
    "network1 = pd.read_csv(\"../../result/network_GTEx_phastcons/BIOGRID.tsv\", sep=\"\\t\", header=None)\n",
    "network2 = pd.read_csv(\"../../result/network_GTEx_phastcons/ChIP_TIP.tsv\", sep=\"\\t\", header=None)\n",
    "network3 = pd.read_csv(\"../../result/network_GTEx_phastcons/CoExpr_GTEx_EBV_0.75.tsv\", sep=\"\\t\", header=None)"
   ]
  },
  {
   "cell_type": "code",
   "execution_count": 3,
   "id": "cda3bda1",
   "metadata": {},
   "outputs": [],
   "source": [
    "network = pd.concat([network1, network2, network3])\n",
    "network = network.drop_duplicates()\n",
    "network.sort_values([0,1]).to_csv(\"../../result/network_GTEx_phastcons/Combine.tsv\", sep=\"\\t\", header=False, index=False)"
   ]
  }
 ],
 "metadata": {
  "kernelspec": {
   "display_name": "Python 3 (ipykernel)",
   "language": "python",
   "name": "python3"
  },
  "language_info": {
   "codemirror_mode": {
    "name": "ipython",
    "version": 3
   },
   "file_extension": ".py",
   "mimetype": "text/x-python",
   "name": "python",
   "nbconvert_exporter": "python",
   "pygments_lexer": "ipython3",
   "version": "3.10.8"
  }
 },
 "nbformat": 4,
 "nbformat_minor": 5
}
