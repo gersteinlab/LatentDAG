{
 "cells": [
  {
   "cell_type": "code",
   "execution_count": 1,
   "id": "1365c7cf",
   "metadata": {},
   "outputs": [],
   "source": [
    "import numpy as np\n",
    "import pandas as pd\n",
    "import scanpy as sc\n",
    "import matplotlib.pyplot as plt"
   ]
  },
  {
   "cell_type": "code",
   "execution_count": 2,
   "id": "absent-finding",
   "metadata": {},
   "outputs": [],
   "source": [
    "exp = pd.read_csv(\"/home/jg2447/slayman/GTEX/data/GTEX_download/GTEx_Analysis_v8_eQTL_expression_matrices/Whole_Blood.v8.normalized_expression.bed.gz\", sep=\"\\t\")\n",
    "exp = exp.iloc[:, 3:]\n",
    "\n",
    "data = sc.read_h5ad(\"../../data/perturb/K562_gwps_normalized_bulk_01.h5ad\")\n",
    "genes = pd.read_csv(\"../../result/data/genes_gene_perturb\", header=None)[0].values\n",
    "eid2name = data.var[data.var['gene_name'].isin(genes)]['gene_name'].to_dict()\n",
    "\n",
    "exp['gene_id'] = exp['gene_id'].str.split(\".\", expand=True)[0].map(eid2name)\n",
    "exp = exp.dropna().set_index(\"gene_id\").T.copy()\n",
    "\n",
    "exp_corr = exp.corr()"
   ]
  },
  {
   "cell_type": "code",
   "execution_count": 3,
   "id": "32aca0c1",
   "metadata": {},
   "outputs": [],
   "source": [
    "corr = pd.DataFrame(exp_corr.values.reshape(-1))\n",
    "corr[1] = list(exp_corr.index) * 2268\n",
    "corr[2] = np.repeat(list(exp_corr.index), 2268)"
   ]
  },
  {
   "cell_type": "code",
   "execution_count": 4,
   "id": "prospective-poison",
   "metadata": {},
   "outputs": [
    {
     "data": {
      "text/plain": [
       "[<matplotlib.lines.Line2D at 0x2ba63b2f08b0>]"
      ]
     },
     "execution_count": 4,
     "metadata": {},
     "output_type": "execute_result"
    },
    {
     "data": {
      "image/png": "[encoded data removed]",
      "text/plain": [
       "<Figure size 432x288 with 1 Axes>"
      ]
     },
     "metadata": {
      "needs_background": "light"
     },
     "output_type": "display_data"
    }
   ],
   "source": [
    "result = []\n",
    "for ii in np.arange(0.05, 1, 0.05):\n",
    "    sub_corr = corr.loc[corr[0].abs()>ii, [1, 2]] # threshold based on R2 of expression\n",
    "    result.append(sub_corr.shape[0])\n",
    "plt.plot(np.arange(0.05, 1, 0.05), result, \".-\")"
   ]
  },
  {
   "cell_type": "code",
   "execution_count": 5,
   "id": "9f481e0d",
   "metadata": {},
   "outputs": [],
   "source": [
    "sub_corr = corr.loc[corr[0].abs()>0.75, [1, 2]] # threshold based on R2 of expression\n",
    "sub_corr = sub_corr[sub_corr[1] != sub_corr[2]] # remove self loop"
   ]
  },
  {
   "cell_type": "code",
   "execution_count": 6,
   "id": "eb3e4a57",
   "metadata": {},
   "outputs": [],
   "source": [
    "genes_df = pd.read_csv(\"../../result/data/genes_gene_perturb\", header=None)\n",
    "name2id = genes_df.reset_index().set_index(0)['index'].to_dict()\n",
    "sub_corr[1] = sub_corr[1].map(name2id)\n",
    "sub_corr[2] = sub_corr[2].map(name2id)"
   ]
  },
  {
   "cell_type": "code",
   "execution_count": 7,
   "id": "9a2a66df",
   "metadata": {},
   "outputs": [],
   "source": [
    "sub_corr.sort_values([1, 2]).to_csv(\"../../result/network/CoExpr_GTEx_0.75.tsv\", sep=\"\\t\", header=False, index=False)"
   ]
  }
 ],
 "metadata": {
  "kernelspec": {
   "display_name": "Python 3 (ipykernel)",
   "language": "python",
   "name": "python3"
  },
  "language_info": {
   "codemirror_mode": {
    "name": "ipython",
    "version": 3
   },
   "file_extension": ".py",
   "mimetype": "text/x-python",
   "name": "python",
   "nbconvert_exporter": "python",
   "pygments_lexer": "ipython3",
   "version": "3.9.16"
  }
 },
 "nbformat": 4,
 "nbformat_minor": 5
}
