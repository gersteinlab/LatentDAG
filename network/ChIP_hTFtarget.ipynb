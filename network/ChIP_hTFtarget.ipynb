{
 "cells": [
  {
   "cell_type": "code",
   "execution_count": null,
   "id": "128148f6",
   "metadata": {},
   "outputs": [],
   "source": [
    "import pandas as pd"
   ]
  },
  {
   "cell_type": "code",
   "execution_count": null,
   "id": "25cdef7e",
   "metadata": {},
   "outputs": [],
   "source": [
    "genes_df = pd.read_csv(\"../../result/data/genes_gene_perturb\", header=None)\n",
    "genes = genes_df[0].values\n",
    "name2id = genes_df.reset_index().set_index(0)['index'].to_dict()"
   ]
  },
  {
   "cell_type": "code",
   "execution_count": null,
   "id": "250a1fe5",
   "metadata": {},
   "outputs": [],
   "source": [
    "db = pd.read_csv(\"../../data/hTFtarget/TF-Target-information.txt\", sep=\"\\t\")\n",
    "db = db.loc[:, [\"TF\", \"target\"]].drop_duplicates()\n",
    "db = db[db['TF'].isin(genes)]\n",
    "db = db[db['target'].isin(genes)].copy()"
   ]
  },
  {
   "cell_type": "code",
   "execution_count": null,
   "id": "0dcb48d3",
   "metadata": {},
   "outputs": [],
   "source": [
    "db['TF'] = db['TF'].map(name2id)\n",
    "db['target'] = db['target'].map(name2id)"
   ]
  },
  {
   "cell_type": "code",
   "execution_count": null,
   "id": "23620c60",
   "metadata": {},
   "outputs": [],
   "source": [
    "db.sort_values(['TF', 'target']).to_csv(\"../../result/network/ChIP_hTFtarget.tsv\", sep=\"\\t\", header=False, index=False)"
   ]
  }
 ],
 "metadata": {
  "kernelspec": {
   "display_name": "Python 3 (ipykernel)",
   "language": "python",
   "name": "python3"
  },
  "language_info": {
   "codemirror_mode": {
    "name": "ipython",
    "version": 3
   },
   "file_extension": ".py",
   "mimetype": "text/x-python",
   "name": "python",
   "nbconvert_exporter": "python",
   "pygments_lexer": "ipython3",
   "version": "3.8.5"
  }
 },
 "nbformat": 4,
 "nbformat_minor": 5
}
