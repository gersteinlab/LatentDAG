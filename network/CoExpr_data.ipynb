{
 "cells": [
  {
   "cell_type": "code",
   "execution_count": 1,
   "id": "348d78d8",
   "metadata": {},
   "outputs": [],
   "source": [
    "import pandas as pd\n",
    "import numpy as np\n",
    "import matplotlib.pyplot as plt"
   ]
  },
  {
   "cell_type": "code",
   "execution_count": 2,
   "id": "opposed-relay",
   "metadata": {},
   "outputs": [],
   "source": [
    "df = pd.read_csv(\"../../data/perturb/clustered_mean_gene_expression_figs2-4.csv\", sep=\",\", index_col=0, low_memory=False)\n",
    "df = df.iloc[2:, 1:].T\n",
    "\n",
    "# compute correlation of expression\n",
    "corr_df = df.corr()\n",
    "corr = pd.DataFrame(corr_df.values.reshape(-1))\n",
    "corr[1] = list(corr_df.index) * 2319\n",
    "corr[2] = np.repeat(list(corr_df.index), 2319)"
   ]
  },
  {
   "cell_type": "code",
   "execution_count": 3,
   "id": "eb02be65",
   "metadata": {},
   "outputs": [],
   "source": [
    "# map to data index\n",
    "gene = pd.read_csv(\"../../result/data/genes_gene_perturb\", header=None)\n",
    "gene_dict = gene.reset_index().set_index(0)['index'].to_dict()\n",
    "corr[1] = corr[1].map(gene_dict)\n",
    "corr[2] = corr[2].map(gene_dict)"
   ]
  },
  {
   "cell_type": "code",
   "execution_count": 4,
   "id": "biological-lending",
   "metadata": {},
   "outputs": [
    {
     "data": {
      "text/plain": [
       "[<matplotlib.lines.Line2D at 0x2b2042fa4730>]"
      ]
     },
     "execution_count": 4,
     "metadata": {},
     "output_type": "execute_result"
    },
    {
     "data": {
      "image/png": "[encoded data removed]",
      "text/plain": [
       "<Figure size 432x288 with 1 Axes>"
      ]
     },
     "metadata": {
      "needs_background": "light"
     },
     "output_type": "display_data"
    }
   ],
   "source": [
    "result = []\n",
    "for ii in np.arange(0.05, 1, 0.05):\n",
    "    sub_corr = corr.loc[corr[0].abs()>ii, [1, 2]] # threshold based on R2 of expression\n",
    "    result.append(sub_corr.shape[0])\n",
    "plt.plot(np.arange(0.05, 1, 0.05), result, \".-\")"
   ]
  },
  {
   "cell_type": "code",
   "execution_count": 5,
   "id": "eacb1934",
   "metadata": {},
   "outputs": [],
   "source": [
    "sub_corr = corr.loc[corr[0].abs()>0.5, [1, 2]] # threshold based on R2 of expression\n",
    "sub_corr = sub_corr[sub_corr[1] != sub_corr[2]] # remove self loop"
   ]
  },
  {
   "cell_type": "code",
   "execution_count": 6,
   "id": "308386f2",
   "metadata": {},
   "outputs": [],
   "source": [
    "sub_corr.to_csv(\"../../result/network/CoExpr_data_0.5.tsv\", sep=\"\\t\", header=False, index=False)"
   ]
  }
 ],
 "metadata": {
  "kernelspec": {
   "display_name": "Python 3 (ipykernel)",
   "language": "python",
   "name": "python3"
  },
  "language_info": {
   "codemirror_mode": {
    "name": "ipython",
    "version": 3
   },
   "file_extension": ".py",
   "mimetype": "text/x-python",
   "name": "python",
   "nbconvert_exporter": "python",
   "pygments_lexer": "ipython3",
   "version": "3.9.16"
  }
 },
 "nbformat": 4,
 "nbformat_minor": 5
}
