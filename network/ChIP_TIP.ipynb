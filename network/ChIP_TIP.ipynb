{
 "cells": [
  {
   "cell_type": "code",
   "execution_count": null,
   "id": "mathematical-reply",
   "metadata": {},
   "outputs": [],
   "source": [
    "import pandas as pd\n",
    "import scanpy as sc"
   ]
  },
  {
   "cell_type": "markdown",
   "id": "requested-investigator",
   "metadata": {},
   "source": [
    "### download all BED files"
   ]
  },
  {
   "cell_type": "code",
   "execution_count": null,
   "id": "ecological-building",
   "metadata": {},
   "outputs": [],
   "source": [
    "meta = pd.read_csv(\"../../data/TIP/metadata.tsv\", sep=\"\\t\")\n",
    "meta['TF'] = meta['Experiment target'].str.split(\"-human\", expand=True)[0]\n",
    "genes = pd.read_csv(\"../../result/data/genes_gene_perturb\", header=None)[0].values\n",
    "meta = meta[meta['TF'].isin(genes)] # keep TF in genes only\n",
    "meta = meta[meta['Output type'] == \"IDR thresholded peaks\"]\n",
    "meta.iloc[:, [0, -1]].to_csv(\"../../result/TIP/Ensembl_TF.tsv\", sep=\"\\t\", index=False)"
   ]
  },
  {
   "cell_type": "code",
   "execution_count": null,
   "id": "sharp-acceptance",
   "metadata": {},
   "outputs": [],
   "source": [
    "with open(\"joblist\", \"w\") as ff:\n",
    "    for fid in meta['File accession']:\n",
    "        ff.write(\"wget https://www.encodeproject.org/files/%s/@@download/%s.bed.gz\\n\" % (fid, fid))"
   ]
  },
  {
   "cell_type": "markdown",
   "id": "legitimate-financing",
   "metadata": {},
   "source": [
    "### run TIP"
   ]
  },
  {
   "cell_type": "code",
   "execution_count": null,
   "id": "increased-climate",
   "metadata": {},
   "outputs": [],
   "source": [
    "meta = pd.read_csv(\"../../result/TIP/Ensembl_TF.tsv\", sep=\"\\t\")\n",
    "with open(\"joblist\", \"w\") as f:\n",
    "    for fid in meta[\"File accession\"]:\n",
    "        f.write(\"module load R; Rscript TIP.R /home/jg2447/slayman/perturb/data/TIP/gene_annotation.txt /home/jg2447/slayman/perturb/data/ENCODE/%s.bed.gz /home/jg2447/slayman/perturb/result/TIP/weight/%s.txt /home/jg2447/slayman/perturb/result/TIP/score/%s.txt\\n\" % (fid, fid, fid))"
   ]
  },
  {
   "cell_type": "markdown",
   "id": "grave-telescope",
   "metadata": {},
   "source": [
    "### get_qvalue"
   ]
  },
  {
   "cell_type": "code",
   "execution_count": null,
   "id": "finnish-profile",
   "metadata": {},
   "outputs": [],
   "source": [
    "meta = pd.read_csv(\"../../result/TIP/Ensembl_TF.tsv\", sep=\"\\t\")\n",
    "with open(\"joblist\", \"w\") as f:\n",
    "    for fid in meta[\"File accession\"]:\n",
    "        f.write(\"module load R; Rscript TIP_qval.R /home/jg2447/slayman/perturb/result/TIP/score/%s.txt /home/jg2447/slayman/perturb/result/TIP/qval/%s.txt\\n\" % (fid, fid))"
   ]
  },
  {
   "cell_type": "markdown",
   "id": "commercial-courtesy",
   "metadata": {},
   "source": [
    "### parse result to network"
   ]
  },
  {
   "cell_type": "code",
   "execution_count": null,
   "id": "seasonal-vector",
   "metadata": {},
   "outputs": [],
   "source": [
    "genes = pd.read_csv(\"../../result/data/genes_gene_perturb\", header=None)[0].values\n",
    "data = sc.read_h5ad(\"../../data/perturb/K562_gwps_normalized_bulk_01.h5ad\")\n",
    "id2name = data.var[data.var['gene_name'].isin(genes)]['gene_name'].to_dict()"
   ]
  },
  {
   "cell_type": "code",
   "execution_count": null,
   "id": "animal-third",
   "metadata": {},
   "outputs": [],
   "source": [
    "name2id = pd.read_csv(\"../../result/data/genes_gene_perturb\", header=None)\n",
    "name2id = name2id.reset_index().set_index(0)['index'].to_dict()"
   ]
  },
  {
   "cell_type": "code",
   "execution_count": null,
   "id": "incorrect-store",
   "metadata": {},
   "outputs": [],
   "source": [
    "meta = pd.read_csv(\"../../result/TIP/Ensembl_TF.tsv\", sep=\"\\t\")\n",
    "result = {}\n",
    "for fid, TF in meta.values:\n",
    "    df = pd.read_csv(\"../../result/TIP/qval/%s.txt\" % fid, sep=\"\\t\")\n",
    "    df[\"name\"] = df[\"name\"].map(id2name) # keep target in genes only\n",
    "    df = df.dropna()\n",
    "    targets = set(df['name'].unique())\n",
    "    if TF in result.keys():\n",
    "        result[TF] = set.union(result[TF], targets)\n",
    "    else:\n",
    "        result[TF] = targets"
   ]
  },
  {
   "cell_type": "code",
   "execution_count": null,
   "id": "brief-guest",
   "metadata": {},
   "outputs": [],
   "source": [
    "source = []\n",
    "target = []\n",
    "for ii in result.keys():\n",
    "    source += [ii] * len(result[ii])\n",
    "    target += list(result[ii])"
   ]
  },
  {
   "cell_type": "code",
   "execution_count": null,
   "id": "egyptian-still",
   "metadata": {},
   "outputs": [],
   "source": [
    "net = pd.DataFrame([source, target]).T\n",
    "net[0] = net[0].map(name2id)\n",
    "net[1] = net[1].map(name2id)\n",
    "net.sort_values([0, 1]).to_csv(\"../../result/network/ChIP_TIP.tsv\", sep=\"\\t\", header=False, index=False)"
   ]
  }
 ],
 "metadata": {
  "kernelspec": {
   "display_name": "Python 3 (ipykernel)",
   "language": "python",
   "name": "python3"
  },
  "language_info": {
   "codemirror_mode": {
    "name": "ipython",
    "version": 3
   },
   "file_extension": ".py",
   "mimetype": "text/x-python",
   "name": "python",
   "nbconvert_exporter": "python",
   "pygments_lexer": "ipython3",
   "version": "3.10.8"
  }
 },
 "nbformat": 4,
 "nbformat_minor": 5
}
