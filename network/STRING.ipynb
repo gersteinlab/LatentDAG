{
 "cells": [
  {
   "cell_type": "code",
   "execution_count": null,
   "id": "australian-paint",
   "metadata": {},
   "outputs": [],
   "source": [
    "import pandas as pd\n",
    "import scanpy as sc"
   ]
  },
  {
   "cell_type": "code",
   "execution_count": null,
   "id": "contrary-delicious",
   "metadata": {},
   "outputs": [],
   "source": [
    "# convert to Ensembl protein ID\n",
    "links = pd.read_csv(\"../../data/STRING/9606.protein.physical.links.v11.5.txt\", sep=\" \")\n",
    "links['protein1'] = links['protein1'].str.split(\"9606.\", expand=True)[1]\n",
    "links['protein2'] = links['protein2'].str.split(\"9606.\", expand=True)[1]"
   ]
  },
  {
   "cell_type": "code",
   "execution_count": null,
   "id": "constant-julian",
   "metadata": {},
   "outputs": [],
   "source": [
    "# convert Ensembl protein ID to Ensembl gene ID\n",
    "eP2eG = pd.read_csv(\"../../data/Ensembl/EnsemblP2EnsemblG.txt\", sep=\"\\t\", header=None).dropna().copy()\n",
    "eP2eG = eP2eG.set_index(0)[1].to_dict()\n",
    "links['protein1'] = links['protein1'].map(eP2eG)\n",
    "links['protein2'] = links['protein2'].map(eP2eG)\n",
    "links = links.dropna().copy()"
   ]
  },
  {
   "cell_type": "code",
   "execution_count": null,
   "id": "spiritual-intermediate",
   "metadata": {},
   "outputs": [],
   "source": [
    "data = sc.read_h5ad(\"../../data/perturb/K562_gwps_normalized_bulk_01.h5ad\")\n",
    "id2name = data.var['gene_name'].to_dict()\n",
    "links['protein1'] = links['protein1'].map(id2name)\n",
    "links['protein2'] = links['protein2'].map(id2name)\n",
    "# keep only both ends existed in the full perturb-seq data\n",
    "links = links.dropna()\n",
    "links = links.loc[:, ['protein1', 'protein2']].copy()"
   ]
  },
  {
   "cell_type": "code",
   "execution_count": null,
   "id": "processed-infrastructure",
   "metadata": {},
   "outputs": [],
   "source": [
    "# map to data index\n",
    "gene = pd.read_csv(\"../../result/data/genes_gene_perturb\", header=None)\n",
    "gene_dict = gene.reset_index().set_index(0)['index'].to_dict()\n",
    "links['protein1'] = links['protein1'].map(gene_dict)\n",
    "links['protein2'] = links['protein2'].map(gene_dict)"
   ]
  },
  {
   "cell_type": "code",
   "execution_count": null,
   "id": "successful-steering",
   "metadata": {},
   "outputs": [],
   "source": [
    "# remove nodes in full perturb-seq data (~9000) and keep only significant one (~2319)\n",
    "links = links.dropna().astype(int)"
   ]
  },
  {
   "cell_type": "code",
   "execution_count": null,
   "id": "satellite-triangle",
   "metadata": {},
   "outputs": [],
   "source": [
    "links = links.drop_duplicates()"
   ]
  },
  {
   "cell_type": "code",
   "execution_count": null,
   "id": "available-detroit",
   "metadata": {},
   "outputs": [],
   "source": [
    "links.to_csv(\"../../result/network/STRING.tsv\", sep=\"\\t\", header=False, index=False)"
   ]
  }
 ],
 "metadata": {
  "kernelspec": {
   "display_name": "Python 3 (ipykernel)",
   "language": "python",
   "name": "python3"
  },
  "language_info": {
   "codemirror_mode": {
    "name": "ipython",
    "version": 3
   },
   "file_extension": ".py",
   "mimetype": "text/x-python",
   "name": "python",
   "nbconvert_exporter": "python",
   "pygments_lexer": "ipython3",
   "version": "3.10.8"
  }
 },
 "nbformat": 4,
 "nbformat_minor": 5
}
