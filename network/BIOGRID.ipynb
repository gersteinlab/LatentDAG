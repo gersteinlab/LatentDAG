{
 "cells": [
  {
   "cell_type": "code",
   "execution_count": null,
   "id": "4cd8c4e0",
   "metadata": {},
   "outputs": [],
   "source": [
    "import pandas as pd\n",
    "import scanpy as sc"
   ]
  },
  {
   "cell_type": "code",
   "execution_count": null,
   "id": "choice-layout",
   "metadata": {},
   "outputs": [],
   "source": [
    "# biogrid data\n",
    "# entrez id to ensembl id\n",
    "edge_list = pd.read_csv(\"../../data/BIOGRID/BIOGRID-ORGANISM-Homo_sapiens-4.4.218.tab3.txt\", sep=\"\\t\", low_memory=False)\n",
    "ensembl2entrez = pd.read_csv(\"../../data/Ensembl/Ensembl2Entrez.txt\", sep=\"\\t\", header=None).dropna().copy()\n",
    "ensembl2entrez[1] = ensembl2entrez[1].astype(int)\n",
    "entrez2ensembl_dict = ensembl2entrez.set_index(1)[0].to_dict()\n",
    "edge_list = edge_list[edge_list['Entrez Gene Interactor A'].apply(lambda x: str(x).isdigit())]\n",
    "edge_list = edge_list[edge_list['Entrez Gene Interactor B'].apply(lambda x: str(x).isdigit())]\n",
    "edge_list[0] = edge_list['Entrez Gene Interactor A'].astype(int).map(entrez2ensembl_dict)\n",
    "edge_list[1] = edge_list['Entrez Gene Interactor B'].astype(int).map(entrez2ensembl_dict)\n",
    "edge_list = edge_list[edge_list['Experimental System Type'] == \"physical\"].copy()"
   ]
  },
  {
   "cell_type": "code",
   "execution_count": null,
   "id": "radical-discussion",
   "metadata": {
    "scrolled": true
   },
   "outputs": [],
   "source": [
    "edge_list = edge_list.loc[:, [0, 1]].dropna()"
   ]
  },
  {
   "cell_type": "code",
   "execution_count": null,
   "id": "marine-universal",
   "metadata": {},
   "outputs": [],
   "source": [
    "# convert ensembl ID to gene name\n",
    "data = sc.read_h5ad(\"/home/jg2447/slayman/perturb/data/perturb/K562_gwps_normalized_bulk_01.h5ad\")\n",
    "id2name = data.var['gene_name'].to_dict()\n",
    "edge_list[0] = edge_list[0].map(id2name)\n",
    "edge_list[1] = edge_list[1].map(id2name)\n",
    "# keep only both ends existed in the full perturb-seq data\n",
    "edge_list = edge_list.dropna()\n",
    "edge_list = edge_list.loc[:, [0, 1]].copy()"
   ]
  },
  {
   "cell_type": "code",
   "execution_count": null,
   "id": "bulgarian-cathedral",
   "metadata": {},
   "outputs": [],
   "source": [
    "# map to data index\n",
    "gene = pd.read_csv(\"../../result/data/genes_gene_perturb\", header=None)\n",
    "gene_dict = gene.reset_index().set_index(0)['index'].to_dict()\n",
    "edge_list[0] = edge_list[0].map(gene_dict)\n",
    "edge_list[1] = edge_list[1].map(gene_dict)"
   ]
  },
  {
   "cell_type": "code",
   "execution_count": null,
   "id": "featured-error",
   "metadata": {},
   "outputs": [],
   "source": [
    "# remove nodes in full perturb-seq data (~9000) and keep only significant one (~2319)\n",
    "edge_list = edge_list.dropna().astype(int)"
   ]
  },
  {
   "cell_type": "code",
   "execution_count": null,
   "id": "vocational-seeker",
   "metadata": {},
   "outputs": [],
   "source": [
    "edge_list.to_csv(\"../../result/network/BIOGRID.tsv\", sep=\"\\t\", header=False, index=False)"
   ]
  }
 ],
 "metadata": {
  "kernelspec": {
   "display_name": "Python 3 (ipykernel)",
   "language": "python",
   "name": "python3"
  },
  "language_info": {
   "codemirror_mode": {
    "name": "ipython",
    "version": 3
   },
   "file_extension": ".py",
   "mimetype": "text/x-python",
   "name": "python",
   "nbconvert_exporter": "python",
   "pygments_lexer": "ipython3",
   "version": "3.9.16"
  }
 },
 "nbformat": 4,
 "nbformat_minor": 5
}
