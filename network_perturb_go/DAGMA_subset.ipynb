{
 "cells": [
  {
   "cell_type": "code",
   "execution_count": 1,
   "id": "19417af3",
   "metadata": {},
   "outputs": [],
   "source": [
    "import pandas as pd"
   ]
  },
  {
   "cell_type": "code",
   "execution_count": 6,
   "id": "14fef32d",
   "metadata": {},
   "outputs": [],
   "source": [
    "go_x = pd.read_csv(\"../../result/input_perturb_go/X\", sep=\"\\t\", index_col=0)"
   ]
  },
  {
   "cell_type": "code",
   "execution_count": 12,
   "id": "b3ec9261",
   "metadata": {},
   "outputs": [],
   "source": [
    "net_p = pd.read_csv(\"../../result/network_perturb_phyloP/DAGMA_thresholdAdaptive.tsv\", sep=\"\\t\", header=None)"
   ]
  },
  {
   "cell_type": "code",
   "execution_count": 14,
   "id": "9632c939",
   "metadata": {},
   "outputs": [],
   "source": [
    "net_p_gene = pd.read_csv(\"../../result/network_perturb_phyloP/valid_genes\", sep=\"\\t\")\n",
    "net_p_id2gene = net_p_gene.set_index(\"ID\")[\"genes\"].to_dict()"
   ]
  },
  {
   "cell_type": "code",
   "execution_count": 21,
   "id": "d2a5998f",
   "metadata": {},
   "outputs": [],
   "source": [
    "net_p[0] = net_p[0].map(net_p_id2gene)\n",
    "net_p[1] = net_p[1].map(net_p_id2gene)"
   ]
  },
  {
   "cell_type": "code",
   "execution_count": 25,
   "id": "fc0d0610",
   "metadata": {},
   "outputs": [],
   "source": [
    "net_p = net_p[net_p[0].isin(go_x.index.values)]\n",
    "net_p = net_p[net_p[1].isin(go_x.index.values)]"
   ]
  },
  {
   "cell_type": "code",
   "execution_count": 27,
   "id": "37297d77",
   "metadata": {},
   "outputs": [],
   "source": [
    "net_go_gene = pd.read_csv(\"../../result/network_perturb_go/valid_genes\", sep=\"\\t\")\n",
    "net_go_gene2id = net_go_gene.set_index(\"genes\")[\"ID\"].to_dict()"
   ]
  },
  {
   "cell_type": "code",
   "execution_count": 29,
   "id": "216f81bb",
   "metadata": {},
   "outputs": [],
   "source": [
    "net_p[0] = net_p[0].map(net_go_gene2id)\n",
    "net_p[1] = net_p[1].map(net_go_gene2id)"
   ]
  },
  {
   "cell_type": "code",
   "execution_count": 35,
   "id": "9d3f07cd",
   "metadata": {},
   "outputs": [],
   "source": [
    "net_p.to_csv(\"../../result/network_perturb_go/DAGMA_thresholdAdaptive.tsv\", sep=\"\\t\", header=None, index=False)"
   ]
  },
  {
   "cell_type": "code",
   "execution_count": null,
   "id": "79bc4eeb",
   "metadata": {},
   "outputs": [],
   "source": []
  }
 ],
 "metadata": {
  "kernelspec": {
   "display_name": "Python 3 (ipykernel)",
   "language": "python",
   "name": "python3"
  },
  "language_info": {
   "codemirror_mode": {
    "name": "ipython",
    "version": 3
   },
   "file_extension": ".py",
   "mimetype": "text/x-python",
   "name": "python",
   "nbconvert_exporter": "python",
   "pygments_lexer": "ipython3",
   "version": "3.8.16"
  }
 },
 "nbformat": 4,
 "nbformat_minor": 5
}
