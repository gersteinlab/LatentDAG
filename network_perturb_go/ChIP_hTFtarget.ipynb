{
 "cells": [
  {
   "cell_type": "code",
   "execution_count": 1,
   "id": "128148f6",
   "metadata": {},
   "outputs": [],
   "source": [
    "import pandas as pd"
   ]
  },
  {
   "cell_type": "code",
   "execution_count": 2,
   "id": "25cdef7e",
   "metadata": {},
   "outputs": [],
   "source": [
    "genes = pd.read_csv(\"../../result/network_perturb_go/valid_genes\", sep=\"\\t\")\n",
    "genes2id = genes.set_index(\"genes\")[\"ID\"].to_dict()\n",
    "genes = genes['genes'].values"
   ]
  },
  {
   "cell_type": "code",
   "execution_count": 3,
   "id": "250a1fe5",
   "metadata": {},
   "outputs": [],
   "source": [
    "db = pd.read_csv(\"../../data/hTFtarget/TF-Target-information.txt\", sep=\"\\t\")\n",
    "db = db.loc[:, [\"TF\", \"target\"]].drop_duplicates()\n",
    "db = db[db['TF'].isin(genes)]\n",
    "db = db[db['target'].isin(genes)].copy()"
   ]
  },
  {
   "cell_type": "code",
   "execution_count": 4,
   "id": "0dcb48d3",
   "metadata": {},
   "outputs": [],
   "source": [
    "db['TF'] = db['TF'].map(genes2id)\n",
    "db['target'] = db['target'].map(genes2id)"
   ]
  },
  {
   "cell_type": "code",
   "execution_count": 5,
   "id": "6f4d8719",
   "metadata": {},
   "outputs": [],
   "source": [
    "db = db.drop_duplicates().sort_values(['TF', 'target'])"
   ]
  },
  {
   "cell_type": "code",
   "execution_count": 7,
   "id": "23620c60",
   "metadata": {},
   "outputs": [],
   "source": [
    "db.to_csv(\"../../result/network_perturb_go/ChIP_hTFtarget.tsv\", sep=\"\\t\", header=False, index=False)"
   ]
  }
 ],
 "metadata": {
  "kernelspec": {
   "display_name": "Python 3 (ipykernel)",
   "language": "python",
   "name": "python3"
  },
  "language_info": {
   "codemirror_mode": {
    "name": "ipython",
    "version": 3
   },
   "file_extension": ".py",
   "mimetype": "text/x-python",
   "name": "python",
   "nbconvert_exporter": "python",
   "pygments_lexer": "ipython3",
   "version": "3.8.16"
  }
 },
 "nbformat": 4,
 "nbformat_minor": 5
}
