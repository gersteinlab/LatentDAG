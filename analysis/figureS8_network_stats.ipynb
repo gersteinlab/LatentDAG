{
 "cells": [
  {
   "cell_type": "code",
   "execution_count": 1,
   "id": "20185ee3",
   "metadata": {},
   "outputs": [],
   "source": [
    "import pandas as pd"
   ]
  },
  {
   "cell_type": "code",
   "execution_count": 6,
   "id": "5c20daca",
   "metadata": {},
   "outputs": [],
   "source": [
    "df = pd.read_csv(\"../../result/network_perturb_phyloP/DAGMA_thresholdAdaptive.tsv\", sep=\"\\t\", header=None)"
   ]
  },
  {
   "cell_type": "code",
   "execution_count": 11,
   "id": "a29e36bb",
   "metadata": {},
   "outputs": [],
   "source": [
    "dagma_edges = (df[0].astype(str) + \"_\" + df[1].astype(str)).values"
   ]
  },
  {
   "cell_type": "code",
   "execution_count": 21,
   "id": "8f78aafa",
   "metadata": {},
   "outputs": [],
   "source": [
    "def network_stats(net):\n",
    "    df = pd.read_csv(net, sep=\"\\t\", header=None)\n",
    "    v1 = len(set.union(set(df[0]), set(df[1])))\n",
    "    v2 = df.shape[0]\n",
    "    edges = (df[0].astype(str) + \"_\" + df[1].astype(str)).values\n",
    "    v3 = len(set.intersection(set(dagma_edges), set(edges)))\n",
    "    print(v2, v1, v3)\n",
    "    return"
   ]
  },
  {
   "cell_type": "code",
   "execution_count": 22,
   "id": "741f884f",
   "metadata": {},
   "outputs": [
    {
     "name": "stdout",
     "output_type": "stream",
     "text": [
      "233 198 233\n",
      "23898 2171 1\n",
      "59559 2226 1\n",
      "28088 2082 1\n",
      "92930 1523 217\n",
      "382852 2024 91\n",
      "638258 1907 61\n",
      "66579 2209 58\n",
      "119776 2128 92\n",
      "491041 2311 109\n"
     ]
    }
   ],
   "source": [
    "for network_name in [\"DAGMA_thresholdAdaptive\", \"ChIP_hTFtarget\", \"ChIP_TIP\", \"ChIP_TIP_K562\", \"CoExpr_perturb_0.5\", \"CoExpr_GTEx_WholeBlood_0.75\", \"CoExpr_ENCODE_K562_0.75\", \"BIOGRID\", \"STRING\", \"Combine\"]:\n",
    "    network_stats(\"../../result/network_perturb_phyloP/%s.tsv\" % network_name)"
   ]
  }
 ],
 "metadata": {
  "kernelspec": {
   "display_name": "Python 3 (ipykernel)",
   "language": "python",
   "name": "python3"
  },
  "language_info": {
   "codemirror_mode": {
    "name": "ipython",
    "version": 3
   },
   "file_extension": ".py",
   "mimetype": "text/x-python",
   "name": "python",
   "nbconvert_exporter": "python",
   "pygments_lexer": "ipython3",
   "version": "3.8.16"
  }
 },
 "nbformat": 4,
 "nbformat_minor": 5
}
