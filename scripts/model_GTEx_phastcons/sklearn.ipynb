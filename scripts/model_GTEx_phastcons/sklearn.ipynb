{
 "cells": [
  {
   "cell_type": "code",
   "execution_count": null,
   "id": "132ad698",
   "metadata": {},
   "outputs": [],
   "source": [
    "import os\n",
    "import pickle\n",
    "import numpy as np\n",
    "import pandas as pd\n",
    "import joblib\n",
    "import matplotlib.pyplot as plt\n",
    "from sklearn.metrics import mean_squared_error\n",
    "from scipy.stats import pearsonr\n",
    "from itertools import product\n",
    "from sklearn.linear_model import ElasticNet\n",
    "from sklearn.neural_network import MLPRegressor\n",
    "import warnings\n",
    "warnings.filterwarnings(\"ignore\")"
   ]
  },
  {
   "cell_type": "code",
   "execution_count": null,
   "id": "1b3d4976",
   "metadata": {
    "scrolled": true
   },
   "outputs": [],
   "source": [
    "for rs in range(1, 6):\n",
    "    # read data\n",
    "    X_train = pd.read_csv(\"../../result/input_GTEx_phastcons/stratified_%d/X_train\" % rs, sep=\"\\t\", index_col=0)\n",
    "    X_valid = pd.read_csv(\"../../result/input_GTEx_phastcons/stratified_%d/X_valid\" % rs, sep=\"\\t\", index_col=0)\n",
    "    X_test = pd.read_csv(\"../../result/input_GTEx_phastcons/stratified_%d/X_test\" % rs, sep=\"\\t\", index_col=0)\n",
    "    Y_train = pd.read_csv(\"../../result/input_GTEx_phastcons/stratified_%d/Y_train\" % rs, sep=\"\\t\", index_col=0)\n",
    "    Y_valid = pd.read_csv(\"../../result/input_GTEx_phastcons/stratified_%d/Y_valid\" % rs, sep=\"\\t\", index_col=0)\n",
    "    Y_test = pd.read_csv(\"../../result/input_GTEx_phastcons/stratified_%d/Y_test\" % rs, sep=\"\\t\", index_col=0)\n",
    "    X = pd.concat([X_train, X_valid, X_test])\n",
    "    Y = pd.concat([Y_train, Y_valid, Y_test]) * 100\n",
    "\n",
    "    # split masks\n",
    "    train_mask = np.concatenate([[True] * len(X_train), [False] * len(X_valid), [False] * len(X_test)])\n",
    "    valid_mask = np.concatenate([[False] * len(X_train), [True] * len(X_valid), [False] * len(X_test)])\n",
    "    test_mask = np.concatenate([[False] * len(X_train), [False] * len(X_valid), [True] * len(X_test)])\n",
    "    mask = pd.DataFrame([train_mask, valid_mask, test_mask]).T\n",
    "    mask.index = X.index\n",
    "\n",
    "    # re-order data to match the network index\n",
    "    valid_genes = pd.read_csv(\"../../result/network_GTEx_phastcons/valid_genes\", sep=\"\\t\")\n",
    "    X = X.loc[valid_genes['genes'].values]\n",
    "    Y = Y.loc[valid_genes['genes'].values]\n",
    "    mask = mask.loc[valid_genes['genes'].values]\n",
    "\n",
    "    # model\n",
    "    os.makedirs(\"../../result/model_GTEx_phastcons_MLP/%d/\" % (rs), exist_ok=True)\n",
    "    for rep in range(10):\n",
    "        mse_list = []\n",
    "        p_list = []\n",
    "        hidden_size_combo = list(product([512, 128, 32], [512, 128, 32, 8, 4], [512, 128, 32, 8, 4]))\n",
    "        for hidden_size in hidden_size_combo:\n",
    "            mlp = MLPRegressor(hidden_layer_sizes=hidden_size, max_iter=1000, activation=\"relu\", solver=\"adam\", alpha=0)\n",
    "            mlp.fit(X[mask[0]], Y[mask[0]].values.reshape(-1))\n",
    "            Y_pred = mlp.predict(X[mask[1]])\n",
    "            mse_list.append(mean_squared_error(Y[mask[1]].values.reshape(-1), Y_pred.reshape(-1)))\n",
    "            p_list.append(pearsonr(Y[mask[1]].values.reshape(-1), Y_pred.reshape(-1))[0])\n",
    "        best_para = hidden_size_combo[np.argmin(mse_list)]\n",
    "\n",
    "        mlp = MLPRegressor(hidden_layer_sizes=best_para, max_iter=1000, activation=\"relu\", solver=\"adam\")\n",
    "        mlp.fit(X[mask[0] | mask[1]], Y[mask[0] | mask[1]].values.reshape(-1))\n",
    "        Y_pred = mlp.predict(X)\n",
    "\n",
    "        # save model, hyperparameters and results\n",
    "        prefix = \"../../result/model_GTEx_phastcons_MLP/%d/model%d\" % (rs, rep)\n",
    "        with open(prefix+\".para\", \"wb\") as f:\n",
    "            pickle.dump([best_para, mlp, Y_pred], f)"
   ]
  }
 ],
 "metadata": {
  "kernelspec": {
   "display_name": "Python 3 (ipykernel)",
   "language": "python",
   "name": "python3"
  },
  "language_info": {
   "codemirror_mode": {
    "name": "ipython",
    "version": 3
   },
   "file_extension": ".py",
   "mimetype": "text/x-python",
   "name": "python",
   "nbconvert_exporter": "python",
   "pygments_lexer": "ipython3",
   "version": "3.10.8"
  }
 },
 "nbformat": 4,
 "nbformat_minor": 5
}
