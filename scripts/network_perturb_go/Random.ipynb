{
 "cells": [
  {
   "cell_type": "code",
   "execution_count": 1,
   "id": "beautiful-tension",
   "metadata": {},
   "outputs": [],
   "source": [
    "import pandas as pd\n",
    "import numpy as np\n",
    "import sys\n",
    "sys.path.insert(1, '/home/jg2447/slayman/perturb/dagma/')\n",
    "from utils import *"
   ]
  },
  {
   "cell_type": "code",
   "execution_count": 2,
   "id": "ce35fd50",
   "metadata": {},
   "outputs": [],
   "source": [
    "n_nodes = pd.read_csv(\"../../result/network_perturb_go/valid_genes\", sep=\"\\t\").shape[0]\n",
    "n_edges = pd.read_csv(\"../../result/network_perturb_go/ChIP_hTFtarget.tsv\", sep=\"\\t\", header=None).shape[0]"
   ]
  },
  {
   "cell_type": "code",
   "execution_count": 3,
   "id": "expired-vault",
   "metadata": {},
   "outputs": [],
   "source": [
    "network = simulate_dag(n_nodes, n_edges, \"ER\")\n",
    "edge_index = pd.DataFrame(np.array(list(zip(*np.nonzero(network)))))\n",
    "edge_index.to_csv(\"../../result/network_perturb_go/Random_ER.tsv\", sep=\"\\t\", header=False, index=False)"
   ]
  },
  {
   "cell_type": "code",
   "execution_count": 4,
   "id": "productive-fantasy",
   "metadata": {},
   "outputs": [],
   "source": [
    "network = simulate_dag(n_nodes, n_edges, \"SF\")\n",
    "edge_index = pd.DataFrame(np.array(list(zip(*np.nonzero(network)))))\n",
    "edge_index.to_csv(\"../../result/network_perturb_go/Random_SF.tsv\", sep=\"\\t\", header=False, index=False)"
   ]
  }
 ],
 "metadata": {
  "kernelspec": {
   "display_name": "Python 3 (ipykernel)",
   "language": "python",
   "name": "python3"
  },
  "language_info": {
   "codemirror_mode": {
    "name": "ipython",
    "version": 3
   },
   "file_extension": ".py",
   "mimetype": "text/x-python",
   "name": "python",
   "nbconvert_exporter": "python",
   "pygments_lexer": "ipython3",
   "version": "3.8.16"
  }
 },
 "nbformat": 4,
 "nbformat_minor": 5
}
