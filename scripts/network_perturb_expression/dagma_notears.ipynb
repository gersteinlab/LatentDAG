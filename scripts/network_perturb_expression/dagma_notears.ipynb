{
 "cells": [
  {
   "cell_type": "code",
   "execution_count": 1,
   "id": "da86c3b3",
   "metadata": {},
   "outputs": [],
   "source": [
    "import pandas as pd"
   ]
  },
  {
   "cell_type": "markdown",
   "id": "8cd7a7c9",
   "metadata": {},
   "source": [
    "### dagma"
   ]
  },
  {
   "cell_type": "code",
   "execution_count": 2,
   "id": "135e89c7",
   "metadata": {},
   "outputs": [],
   "source": [
    "df = pd.read_csv(\"../../result/network_perturb_phyloP/DAGMA_thresholdAdaptive.tsv\", sep=\"\\t\", header=None)"
   ]
  },
  {
   "cell_type": "code",
   "execution_count": 3,
   "id": "673272df",
   "metadata": {},
   "outputs": [],
   "source": [
    "valid_gene = pd.read_csv(\"../../result/network_perturb_phyloP/valid_genes\", sep=\"\\t\")\n",
    "dict1 = valid_gene.set_index(\"ID\")['genes'].to_dict()\n",
    "df[0] = df[0].map(dict1)\n",
    "df[1] = df[1].map(dict1)"
   ]
  },
  {
   "cell_type": "code",
   "execution_count": 4,
   "id": "8264c266",
   "metadata": {},
   "outputs": [],
   "source": [
    "valid_gene = pd.read_csv(\"../../result/network_perturb_expression/valid_genes\", sep=\"\\t\")\n",
    "dict2 = valid_gene.set_index(\"genes\")['ID'].to_dict()\n",
    "df[0] = df[0].map(dict2)\n",
    "df[1] = df[1].map(dict2)\n",
    "df = df.dropna().astype(int)\n",
    "df.to_csv(\"../../result/network_perturb_expression/DAGMA_thresholdAdaptive.tsv\", sep=\"\\t\", header=False, index=False)"
   ]
  },
  {
   "cell_type": "markdown",
   "id": "d27e61aa",
   "metadata": {},
   "source": [
    "### notears"
   ]
  },
  {
   "cell_type": "code",
   "execution_count": 5,
   "id": "8449158e",
   "metadata": {},
   "outputs": [],
   "source": [
    "df = pd.read_csv(\"../../result/network_perturb_phyloP/NOTEARS_thresholdAdaptive.tsv\", sep=\"\\t\", header=None)"
   ]
  },
  {
   "cell_type": "code",
   "execution_count": 6,
   "id": "3d460e69",
   "metadata": {},
   "outputs": [],
   "source": [
    "valid_gene = pd.read_csv(\"../../result/network_perturb_phyloP/valid_genes\", sep=\"\\t\")\n",
    "dict1 = valid_gene.set_index(\"ID\")['genes'].to_dict()\n",
    "df[0] = df[0].map(dict1)\n",
    "df[1] = df[1].map(dict1)"
   ]
  },
  {
   "cell_type": "code",
   "execution_count": 7,
   "id": "531d9115",
   "metadata": {},
   "outputs": [],
   "source": [
    "valid_gene = pd.read_csv(\"../../result/network_perturb_expression/valid_genes\", sep=\"\\t\")\n",
    "dict2 = valid_gene.set_index(\"genes\")['ID'].to_dict()\n",
    "df[0] = df[0].map(dict2)\n",
    "df[1] = df[1].map(dict2)\n",
    "df = df.dropna().astype(int)\n",
    "df.to_csv(\"../../result/network_perturb_expression/NOTEARS_thresholdAdaptive.tsv\", sep=\"\\t\", header=False, index=False)"
   ]
  }
 ],
 "metadata": {
  "kernelspec": {
   "display_name": "Python 3 (ipykernel)",
   "language": "python",
   "name": "python3"
  },
  "language_info": {
   "codemirror_mode": {
    "name": "ipython",
    "version": 3
   },
   "file_extension": ".py",
   "mimetype": "text/x-python",
   "name": "python",
   "nbconvert_exporter": "python",
   "pygments_lexer": "ipython3",
   "version": "3.8.16"
  }
 },
 "nbformat": 4,
 "nbformat_minor": 5
}
