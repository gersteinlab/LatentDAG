{
 "cells": [
  {
   "cell_type": "code",
   "execution_count": null,
   "id": "28fba731",
   "metadata": {},
   "outputs": [],
   "source": [
    "import pandas as pd"
   ]
  },
  {
   "cell_type": "code",
   "execution_count": null,
   "id": "044f9094",
   "metadata": {},
   "outputs": [],
   "source": [
    "df = pd.read_csv(\"../../result/network_perturb_phyloP/CoExpr_perturb_0.3.tsv\", sep=\"\\t\", header=None)\n",
    "df2 = pd.read_csv(\"../../result/network_perturb_phyloP/DAGMA_thresholdAdaptive.tsv\", sep=\"\\t\", header=None)"
   ]
  },
  {
   "cell_type": "code",
   "execution_count": null,
   "id": "19678481",
   "metadata": {},
   "outputs": [],
   "source": [
    "new_df = pd.concat([df2, df.sample(500)]).sort_values([0, 1])\n",
    "len(set.union(set(new_df[0]), set(new_df[1])))"
   ]
  },
  {
   "cell_type": "code",
   "execution_count": null,
   "id": "4d5227f7",
   "metadata": {},
   "outputs": [],
   "source": [
    "new_df.to_csv(\"../../result/network_perturb_phyloP/Chimera0.3.tsv\", sep=\"\\t\", header=False, index=False)"
   ]
  }
 ],
 "metadata": {
  "kernelspec": {
   "display_name": "Python 3 (ipykernel)",
   "language": "python",
   "name": "python3"
  },
  "language_info": {
   "codemirror_mode": {
    "name": "ipython",
    "version": 3
   },
   "file_extension": ".py",
   "mimetype": "text/x-python",
   "name": "python",
   "nbconvert_exporter": "python",
   "pygments_lexer": "ipython3",
   "version": "3.10.8"
  }
 },
 "nbformat": 4,
 "nbformat_minor": 5
}
