{
 "cells": [
  {
   "cell_type": "code",
   "execution_count": 1,
   "id": "ea471e62",
   "metadata": {
    "scrolled": true
   },
   "outputs": [
    {
     "name": "stderr",
     "output_type": "stream",
     "text": [
      "/gpfs/slayman/pi/gerstein/jg2447/conda_envs/bio/lib/python3.10/site-packages/tqdm/auto.py:21: TqdmWarning: IProgress not found. Please update jupyter and ipywidgets. See https://ipywidgets.readthedocs.io/en/stable/user_install.html\n",
      "  from .autonotebook import tqdm as notebook_tqdm\n"
     ]
    }
   ],
   "source": [
    "import numpy as np\n",
    "import pandas as pd\n",
    "import sys\n",
    "sys.path.insert(1, '/home/jg2447/slayman/perturb/dagma/')\n",
    "from linear import DagmaLinear\n",
    "from utils import is_dag"
   ]
  },
  {
   "cell_type": "code",
   "execution_count": null,
   "id": "6060eda5",
   "metadata": {},
   "outputs": [],
   "source": [
    "X = pd.read_csv(\"../../result/input_perturb_phyloP/X\", sep=\"\\t\", index_col=0)\n",
    "X = X.T.values"
   ]
  },
  {
   "cell_type": "code",
   "execution_count": null,
   "id": "aef1594f",
   "metadata": {
    "scrolled": true
   },
   "outputs": [],
   "source": [
    "X.shape"
   ]
  },
  {
   "cell_type": "code",
   "execution_count": null,
   "id": "881f37a3",
   "metadata": {},
   "outputs": [],
   "source": [
    "### run DAGMA without threshold\n",
    "# remove line 354 in the linear.py source code to remove original threshold\n",
    "model = DagmaLinear(loss_type='l2')\n",
    "W_est = model.fit(X, lambda1=0.02)\n",
    "pd.DataFrame(W_est).to_csv('../../result/network_perturb_phyloP/DAGMA_w_est.csv', sep=\"\\t\", index=False, header=False)"
   ]
  },
  {
   "cell_type": "code",
   "execution_count": 2,
   "id": "e9690c42",
   "metadata": {},
   "outputs": [],
   "source": [
    "W_est = pd.read_csv(\"../../result/network_perturb_phyloP/DAGMA_w_est.csv\", sep=\"\\t\", header=None).values"
   ]
  },
  {
   "cell_type": "code",
   "execution_count": 3,
   "id": "weighted-nicholas",
   "metadata": {},
   "outputs": [
    {
     "name": "stdout",
     "output_type": "stream",
     "text": [
      "True\n"
     ]
    }
   ],
   "source": [
    "###### slightly decrease the threshold until W_est_final is no longer a DAG\n",
    "W_est_final = W_est.copy()\n",
    "W_est_final[np.abs(W_est) < 0.19633210] = 0\n",
    "print(is_dag(W_est_final))\n",
    "\n",
    "edge_list = np.array(list(zip(*np.nonzero(W_est_final))))\n",
    "edge_index = pd.DataFrame(edge_list)\n",
    "edge_index.to_csv(\"../../result/network_perturb_phyloP/DAGMA_thresholdAdaptive.tsv\", sep=\"\\t\", header=False, index=False)"
   ]
  }
 ],
 "metadata": {
  "kernelspec": {
   "display_name": "Python 3 (ipykernel)",
   "language": "python",
   "name": "python3"
  },
  "language_info": {
   "codemirror_mode": {
    "name": "ipython",
    "version": 3
   },
   "file_extension": ".py",
   "mimetype": "text/x-python",
   "name": "python",
   "nbconvert_exporter": "python",
   "pygments_lexer": "ipython3",
   "version": "3.8.16"
  }
 },
 "nbformat": 4,
 "nbformat_minor": 5
}
