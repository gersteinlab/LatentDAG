{
 "cells": [
  {
   "cell_type": "code",
   "execution_count": null,
   "id": "ea471e62",
   "metadata": {},
   "outputs": [],
   "source": [
    "import numpy as np\n",
    "import pandas as pd\n",
    "import sys\n",
    "sys.path.insert(1, '/home/jg2447/slayman/perturb/notears/notears/')\n",
    "from linear import notears_linear\n",
    "from utils import is_dag"
   ]
  },
  {
   "cell_type": "code",
   "execution_count": null,
   "id": "060f5d60",
   "metadata": {},
   "outputs": [],
   "source": [
    "X = pd.read_csv(\"../../result/input_perturb_phyloP/X\", sep=\"\\t\", index_col=0)\n",
    "X = X.T.values"
   ]
  },
  {
   "cell_type": "code",
   "execution_count": null,
   "id": "531672ff",
   "metadata": {},
   "outputs": [],
   "source": [
    "X.shape"
   ]
  },
  {
   "cell_type": "code",
   "execution_count": null,
   "id": "881f37a3",
   "metadata": {
    "scrolled": true
   },
   "outputs": [],
   "source": [
    "### run NOTEARS without threshold\n",
    "# remove line 85 in the linear.py source code to remove original threshold\n",
    "W_est = notears_linear(X, lambda1=0.02, loss_type='l2')\n",
    "pd.DataFrame(W_est).to_csv('../../result/network_perturb_phyloP/NOTEARS_w_est.csv', sep=\"\\t\", index=False, header=False)"
   ]
  },
  {
   "cell_type": "code",
   "execution_count": null,
   "id": "9dbd3c56",
   "metadata": {},
   "outputs": [],
   "source": [
    "W_est = pd.read_csv(\"../../result/network_perturb_phyloP/NOTEARS_w_est.csv\", sep=\"\\t\", header=None).values"
   ]
  },
  {
   "cell_type": "code",
   "execution_count": null,
   "id": "56afc1d0",
   "metadata": {},
   "outputs": [],
   "source": [
    "###### slightly decrease the threshold until W_est_final is no longer a DAG\n",
    "\n",
    "W_est_final = W_est.copy()\n",
    "W_est_final[np.abs(W_est) < 0.18873087] = 0\n",
    "is_dag(W_est_final)"
   ]
  },
  {
   "cell_type": "code",
   "execution_count": null,
   "id": "weighted-nicholas",
   "metadata": {},
   "outputs": [],
   "source": [
    "edge_list = np.array(list(zip(*np.nonzero(W_est_final))))\n",
    "edge_index = pd.DataFrame(edge_list)\n",
    "edge_index.to_csv(\"../../result/network_perturb_phyloP/NOTEARS_thresholdAdaptive.tsv\", sep=\"\\t\", header=False, index=False)"
   ]
  }
 ],
 "metadata": {
  "kernelspec": {
   "display_name": "Python 3 (ipykernel)",
   "language": "python",
   "name": "python3"
  },
  "language_info": {
   "codemirror_mode": {
    "name": "ipython",
    "version": 3
   },
   "file_extension": ".py",
   "mimetype": "text/x-python",
   "name": "python",
   "nbconvert_exporter": "python",
   "pygments_lexer": "ipython3",
   "version": "3.10.8"
  }
 },
 "nbformat": 4,
 "nbformat_minor": 5
}
