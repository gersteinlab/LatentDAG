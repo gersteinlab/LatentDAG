{
 "cells": [
  {
   "cell_type": "code",
   "execution_count": 1,
   "id": "1b779f12",
   "metadata": {},
   "outputs": [],
   "source": [
    "import pandas as pd"
   ]
  },
  {
   "cell_type": "code",
   "execution_count": 2,
   "id": "7f8b779b",
   "metadata": {},
   "outputs": [],
   "source": [
    "import scanpy as sc"
   ]
  },
  {
   "cell_type": "code",
   "execution_count": 3,
   "id": "334adef4",
   "metadata": {},
   "outputs": [],
   "source": [
    "df = pd.read_csv(\"../../result/network_perturb_phyloP/DAGMA_thresholdAdaptive.tsv\", sep=\"\\t\", header=None)\n",
    "mapping = pd.read_csv(\"../../result/network_perturb_phyloP/valid_genes\", sep=\"\\t\").set_index(\"ID\")['genes'].to_dict()\n",
    "df[0] = df[0].map(mapping)\n",
    "df[1] = df[1].map(mapping)"
   ]
  },
  {
   "cell_type": "code",
   "execution_count": 4,
   "id": "169d146d",
   "metadata": {},
   "outputs": [],
   "source": [
    "# convert to gene ensembl_ID\n",
    "data = sc.read_h5ad(\"../../data/perturb/K562_gwps_normalized_bulk_01.h5ad\")\n",
    "name2id = data.var[\"gene_name\"].to_frame().reset_index().set_index(\"gene_name\")[\"gene_id\"].to_dict()\n",
    "df[0] = df[0].map(name2id)\n",
    "df[1] = df[1].map(name2id)"
   ]
  },
  {
   "cell_type": "code",
   "execution_count": 5,
   "id": "593ea2b2",
   "metadata": {},
   "outputs": [],
   "source": [
    "genes = pd.read_csv(\"../../result/network_GTEx_phyloP/valid_genes\", sep=\"\\t\")['genes'].unique()"
   ]
  },
  {
   "cell_type": "code",
   "execution_count": 6,
   "id": "b7e13b2e",
   "metadata": {},
   "outputs": [],
   "source": [
    "df = df[df[0].isin(genes) & df[1].isin(genes)]"
   ]
  },
  {
   "cell_type": "code",
   "execution_count": 7,
   "id": "8ce9121a",
   "metadata": {},
   "outputs": [],
   "source": [
    "id_dict = pd.read_csv(\"../../result/network_GTEx_phyloP/valid_genes\", sep=\"\\t\").set_index('genes')['ID'].to_dict()"
   ]
  },
  {
   "cell_type": "code",
   "execution_count": 8,
   "id": "ee77323e",
   "metadata": {},
   "outputs": [],
   "source": [
    "df[0] = df[0].map(id_dict)\n",
    "df[1] = df[1].map(id_dict)"
   ]
  },
  {
   "cell_type": "code",
   "execution_count": 9,
   "id": "c7241359",
   "metadata": {},
   "outputs": [],
   "source": [
    "df.to_csv(\"../../result/network_GTEx_phyloP/DAGMA.tsv\", sep=\"\\t\", header=False, index=False)"
   ]
  }
 ],
 "metadata": {
  "kernelspec": {
   "display_name": "Python 3 (ipykernel)",
   "language": "python",
   "name": "python3"
  },
  "language_info": {
   "codemirror_mode": {
    "name": "ipython",
    "version": 3
   },
   "file_extension": ".py",
   "mimetype": "text/x-python",
   "name": "python",
   "nbconvert_exporter": "python",
   "pygments_lexer": "ipython3",
   "version": "3.8.16"
  }
 },
 "nbformat": 4,
 "nbformat_minor": 5
}
