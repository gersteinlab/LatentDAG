{
 "cells": [
  {
   "cell_type": "code",
   "execution_count": 1,
   "id": "c6270dc8",
   "metadata": {},
   "outputs": [],
   "source": [
    "import pandas as pd"
   ]
  },
  {
   "cell_type": "code",
   "execution_count": 2,
   "id": "91a79fd4",
   "metadata": {},
   "outputs": [],
   "source": [
    "df = pd.read_csv(\"../../result/input_GTEx_phyloP/X_PCA\", sep=\"\\t\", index_col=0)\n",
    "df = df.index.to_frame().reset_index(drop=True).reset_index()\n",
    "df.columns = ['ID', \"genes\"]\n",
    "df.to_csv(\"../../result/network_GTEx_phyloP/valid_genes\", index=False, sep=\"\\t\")"
   ]
  }
 ],
 "metadata": {
  "kernelspec": {
   "display_name": "Python 3 (ipykernel)",
   "language": "python",
   "name": "python3"
  },
  "language_info": {
   "codemirror_mode": {
    "name": "ipython",
    "version": 3
   },
   "file_extension": ".py",
   "mimetype": "text/x-python",
   "name": "python",
   "nbconvert_exporter": "python",
   "pygments_lexer": "ipython3",
   "version": "3.8.16"
  }
 },
 "nbformat": 4,
 "nbformat_minor": 5
}
