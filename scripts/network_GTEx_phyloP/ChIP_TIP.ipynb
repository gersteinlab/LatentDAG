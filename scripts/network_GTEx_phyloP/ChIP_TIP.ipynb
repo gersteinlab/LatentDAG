{
 "cells": [
  {
   "cell_type": "code",
   "execution_count": 1,
   "id": "mathematical-reply",
   "metadata": {},
   "outputs": [],
   "source": [
    "import os\n",
    "import pandas as pd\n",
    "import scanpy as sc"
   ]
  },
  {
   "cell_type": "code",
   "execution_count": 2,
   "id": "cc907526",
   "metadata": {},
   "outputs": [],
   "source": [
    "genes = pd.read_csv(\"../../result/network_GTEx_phyloP/valid_genes\", sep=\"\\t\")\n",
    "id2genes = genes.set_index(\"ID\")[\"genes\"].to_dict()\n",
    "genes2id = genes.set_index(\"genes\")[\"ID\"].to_dict()\n",
    "genes = genes['genes'].values"
   ]
  },
  {
   "cell_type": "markdown",
   "id": "requested-investigator",
   "metadata": {},
   "source": [
    "### preprocess"
   ]
  },
  {
   "cell_type": "code",
   "execution_count": null,
   "id": "0a131f77",
   "metadata": {},
   "outputs": [],
   "source": [
    "# # filter valid experiments from ENCODE-download metadata\n",
    "# meta = pd.read_csv(\"../../data/TIP/metadata.tsv\", sep=\"\\t\")\n",
    "# meta['TF'] = meta['Experiment target'].str.split(\"-human\", expand=True)[0]\n",
    "\n",
    "# data = sc.read_h5ad(\"../../data/perturb/K562_gwps_normalized_bulk_01.h5ad\")\n",
    "# name2id = data.var[\"gene_name\"].to_frame().reset_index().set_index(\"gene_name\")[\"gene_id\"].to_dict()\n",
    "# meta['TFname'] = meta['TF'].map(name2id)\n",
    "\n",
    "# meta = meta[meta['TFname'].isin(genes)] # keep TF in genes only\n",
    "# meta = meta[meta['Output type'] == \"IDR thresholded peaks\"]\n",
    "# meta.iloc[:, [0, -1]].to_csv(\"../../data/TIP/meta_perturb.tsv\", sep=\"\\t\", index=False)\n",
    "\n",
    "# # download ChIP-seq bed files\n",
    "# with open(\"joblist\", \"w\") as ff:\n",
    "#     for fid in meta['File accession'].values:\n",
    "#         if not os.path.exists(\"../../data/TIP/ENCODE/%s.bed.gz\" % fid):\n",
    "#             ff.write(\"wget https://www.encodeproject.org/files/%s/@@download/%s.bed.gz\\n\" % (fid, fid))\n",
    "\n",
    "# # move downloaded files to ../../data/TIP/ENCODE/\n",
    "\n",
    "# # run TIP\n",
    "# meta = pd.read_csv(\"../../data/TIP/meta_perturb.tsv\", sep=\"\\t\")\n",
    "# with open(\"joblist\", \"w\") as f:\n",
    "#     for fid in meta[\"File accession\"]:\n",
    "#         f.write(\"module load R; Rscript TIP.R ../../data/TIP/gene_annotation.txt ../../data/TIP/ENCODE/%s.bed.gz ../../data/TIP/weight/%s.txt ../../data/TIP/score/%s.txt\\n\" % (fid, fid, fid))\n",
    "\n",
    "# # calculate q-value\n",
    "# meta = pd.read_csv(\"../../data/TIP/meta_perturb.tsv\", sep=\"\\t\")\n",
    "# with open(\"joblist\", \"w\") as f:\n",
    "#     for fid in meta[\"File accession\"]:\n",
    "#         f.write(\"module load R; Rscript TIP_qval.R ../../data/TIP/score/%s.txt ../../data/TIP/qval/%s.txt\\n\" % (fid, fid))"
   ]
  },
  {
   "cell_type": "markdown",
   "id": "commercial-courtesy",
   "metadata": {},
   "source": [
    "### parse result to network"
   ]
  },
  {
   "cell_type": "code",
   "execution_count": 4,
   "id": "89530d6b",
   "metadata": {},
   "outputs": [],
   "source": [
    "meta = pd.read_csv(\"../../data/TIP/meta_GTEx.tsv\", sep=\"\\t\")"
   ]
  },
  {
   "cell_type": "code",
   "execution_count": 5,
   "id": "seasonal-vector",
   "metadata": {},
   "outputs": [],
   "source": [
    "result = {}\n",
    "for fid, TF in meta.values:\n",
    "    df = pd.read_csv(\"../../data/TIP/qval/%s.txt\" % fid, sep=\"\\t\")\n",
    "    targets = set(df['name'].unique())\n",
    "    if TF in result.keys():\n",
    "        result[TF] = set.union(result[TF], targets)\n",
    "    else:\n",
    "        result[TF] = targets"
   ]
  },
  {
   "cell_type": "code",
   "execution_count": 6,
   "id": "brief-guest",
   "metadata": {},
   "outputs": [],
   "source": [
    "source = []\n",
    "target = []\n",
    "for ii in result.keys():\n",
    "    source += [ii] * len(result[ii])\n",
    "    target += list(result[ii])"
   ]
  },
  {
   "cell_type": "code",
   "execution_count": 7,
   "id": "4fee4bac",
   "metadata": {},
   "outputs": [],
   "source": [
    "net = pd.DataFrame([source, target]).T\n",
    "net[0] = net[0].map(genes2id)\n",
    "net[1] = net[1].map(genes2id)\n",
    "\n",
    "net = net.dropna().copy() # remove any NA\n",
    "net[0] = net[0].astype(int)\n",
    "net[1] = net[1].astype(int)"
   ]
  },
  {
   "cell_type": "code",
   "execution_count": 8,
   "id": "c0b2dae4",
   "metadata": {},
   "outputs": [],
   "source": [
    "net = net.drop_duplicates().sort_values([0, 1])\n",
    "net.to_csv(\"../../result/network_GTEx_phyloP/ChIP_TIP.tsv\", sep=\"\\t\", header=False, index=False)"
   ]
  }
 ],
 "metadata": {
  "kernelspec": {
   "display_name": "Python 3 (ipykernel)",
   "language": "python",
   "name": "python3"
  },
  "language_info": {
   "codemirror_mode": {
    "name": "ipython",
    "version": 3
   },
   "file_extension": ".py",
   "mimetype": "text/x-python",
   "name": "python",
   "nbconvert_exporter": "python",
   "pygments_lexer": "ipython3",
   "version": "3.8.16"
  }
 },
 "nbformat": 4,
 "nbformat_minor": 5
}
