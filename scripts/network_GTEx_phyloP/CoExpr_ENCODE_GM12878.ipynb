{
 "cells": [
  {
   "cell_type": "code",
   "execution_count": 1,
   "id": "cc74d259",
   "metadata": {},
   "outputs": [],
   "source": [
    "import numpy as np\n",
    "import pandas as pd\n",
    "import scanpy as sc\n",
    "import matplotlib.pyplot as plt"
   ]
  },
  {
   "cell_type": "code",
   "execution_count": 2,
   "id": "7189df87",
   "metadata": {},
   "outputs": [],
   "source": [
    "genes = pd.read_csv(\"../../result/network_GTEx_phyloP/valid_genes\", sep=\"\\t\")\n",
    "id2genes = genes.set_index(\"ID\")[\"genes\"].to_dict()\n",
    "genes2id = genes.set_index(\"genes\")[\"ID\"].to_dict()\n",
    "genes = genes['genes'].values"
   ]
  },
  {
   "cell_type": "code",
   "execution_count": 3,
   "id": "0d74dc93",
   "metadata": {},
   "outputs": [],
   "source": [
    "meta = pd.read_csv(\"../../data/ENCODE_GM12878/metadata.tsv\", sep=\"\\t\")\n",
    "meta = meta[meta['Output type'] == \"gene quantifications\"]\n",
    "meta = meta[meta['File assembly'] == \"GRCh38\"]\n",
    "meta.to_csv(\"../../data/ENCODE_GM12878/metadata_clean.tsv\", sep=\"\\t\", index=False)"
   ]
  },
  {
   "cell_type": "code",
   "execution_count": 4,
   "id": "f2b0b14d",
   "metadata": {},
   "outputs": [],
   "source": [
    "# with open(\"joblist\", \"w\") as ff:\n",
    "#     for fid in meta['File accession']:\n",
    "#         ff.write(\"wget https://www.encodeproject.org/files/%s/@@download/%s.tsv\\n\" % (fid, fid))\n",
    "# # downloaded files are moved to ../../data/ENCODE_K562/tsv/"
   ]
  },
  {
   "cell_type": "code",
   "execution_count": 5,
   "id": "2fb33374",
   "metadata": {},
   "outputs": [],
   "source": [
    "result_df = pd.DataFrame([])\n",
    "for eid in meta['File accession'].values:\n",
    "    df = pd.read_csv(\"../../data/ENCODE_GM12878/tsv/%s.tsv\" % eid, sep=\"\\t\")\n",
    "    df = df[df['gene_id'].str.startswith(\"ENSG\")]\n",
    "    df = df.loc[:, [\"gene_id\", \"TPM\"]].copy()\n",
    "    df.columns = ['gene_id', eid]\n",
    "    if result_df.shape[0] == 0:\n",
    "        result_df = df.copy()\n",
    "    else:\n",
    "        result_df = pd.merge(result_df, df, left_on='gene_id', right_on='gene_id')"
   ]
  },
  {
   "cell_type": "code",
   "execution_count": 6,
   "id": "aaa63962",
   "metadata": {},
   "outputs": [],
   "source": [
    "result_df['gene_id'] = result_df['gene_id'].str.split(\".\", expand=True)[0]\n",
    "result_df = result_df[result_df['gene_id'].isin(genes)].copy()\n",
    "result_df = result_df.set_index('gene_id')"
   ]
  },
  {
   "cell_type": "code",
   "execution_count": 7,
   "id": "b8fa8be0",
   "metadata": {},
   "outputs": [],
   "source": [
    "exp_corr = result_df.T.corr()"
   ]
  },
  {
   "cell_type": "code",
   "execution_count": 8,
   "id": "6ab68beb",
   "metadata": {},
   "outputs": [],
   "source": [
    "corr = pd.DataFrame(exp_corr.values.reshape(-1))\n",
    "corr[1] = list(exp_corr.index) * exp_corr.shape[0]\n",
    "corr[2] = np.repeat(list(exp_corr.index), exp_corr.shape[0])"
   ]
  },
  {
   "cell_type": "code",
   "execution_count": 9,
   "id": "2d16652a",
   "metadata": {},
   "outputs": [
    {
     "data": {
      "text/plain": [
       "[<matplotlib.lines.Line2D at 0x154d928db100>]"
      ]
     },
     "execution_count": 9,
     "metadata": {},
     "output_type": "execute_result"
    },
    {
     "data": {
      "image/png": "[encoded data removed]",
      "text/plain": [
       "<Figure size 640x480 with 1 Axes>"
      ]
     },
     "metadata": {},
     "output_type": "display_data"
    }
   ],
   "source": [
    "result = []\n",
    "for ii in np.arange(0.05, 1, 0.05):\n",
    "    sub_corr = corr.loc[corr[0].abs()>ii, [1, 2]] # threshold based on R2 of expression\n",
    "    result.append(sub_corr.shape[0])\n",
    "plt.plot(np.arange(0.05, 1, 0.05), result, \".-\")"
   ]
  },
  {
   "cell_type": "code",
   "execution_count": 10,
   "id": "68973916",
   "metadata": {},
   "outputs": [],
   "source": [
    "sub_corr = corr.loc[corr[0].abs()>0.75, [1, 2]] # threshold based on R2 of expression\n",
    "sub_corr = sub_corr[sub_corr[1] != sub_corr[2]] # remove self loop"
   ]
  },
  {
   "cell_type": "code",
   "execution_count": 11,
   "id": "22050ac2",
   "metadata": {},
   "outputs": [],
   "source": [
    "sub_corr[1] = sub_corr[1].map(genes2id)\n",
    "sub_corr[2] = sub_corr[2].map(genes2id)"
   ]
  },
  {
   "cell_type": "code",
   "execution_count": 12,
   "id": "bb88e81a",
   "metadata": {},
   "outputs": [],
   "source": [
    "sub_corr.sort_values([1, 2]).to_csv(\"../../result/network_GTEx_phyloP/CoExpr_ENCODE_GM12878_0.75.tsv\", sep=\"\\t\", header=False, index=False)"
   ]
  }
 ],
 "metadata": {
  "kernelspec": {
   "display_name": "Python 3 (ipykernel)",
   "language": "python",
   "name": "python3"
  },
  "language_info": {
   "codemirror_mode": {
    "name": "ipython",
    "version": 3
   },
   "file_extension": ".py",
   "mimetype": "text/x-python",
   "name": "python",
   "nbconvert_exporter": "python",
   "pygments_lexer": "ipython3",
   "version": "3.8.16"
  }
 },
 "nbformat": 4,
 "nbformat_minor": 5
}
