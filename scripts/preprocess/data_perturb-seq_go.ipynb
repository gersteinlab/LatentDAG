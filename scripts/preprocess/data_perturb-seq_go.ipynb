{
 "cells": [
  {
   "cell_type": "markdown",
   "id": "fcf77c36",
   "metadata": {},
   "source": [
    "note: X is a subset of the data_perturb-seq_expression and Y is different"
   ]
  },
  {
   "cell_type": "code",
   "execution_count": null,
   "id": "a609c916",
   "metadata": {
    "scrolled": true
   },
   "outputs": [],
   "source": [
    "import pandas as pd\n",
    "import numpy as np\n",
    "import scanpy as sc"
   ]
  },
  {
   "cell_type": "code",
   "execution_count": null,
   "id": "66a4f98e",
   "metadata": {
    "scrolled": true
   },
   "outputs": [],
   "source": [
    "go = pd.read_csv(\"../../data/GO/gene_go.csv\", sep=\",\")\n",
    "go = go[~go['GO term accession'].isnull()]\n",
    "go = go.groupby(\"Gene stable ID\").nunique().reset_index()\n",
    "\n",
    "data = sc.read_h5ad(\"../../data/perturb/K562_gwps_normalized_bulk_01.h5ad\")\n",
    "eid2name = data.var[\"gene_name\"].to_dict()\n",
    "go[\"Gene stable ID\"] = go[\"Gene stable ID\"].map(eid2name)\n",
    "\n",
    "go = go.dropna()\n",
    "go.columns = [\"gene\", \"go\"]\n",
    "go = go.sort_values(\"gene\")\n",
    "go = go.set_index(\"gene\")"
   ]
  },
  {
   "cell_type": "code",
   "execution_count": null,
   "id": "5eac9fe4",
   "metadata": {
    "scrolled": true
   },
   "outputs": [],
   "source": [
    "# common genes between conservation dataset and perturb-seq dataset\n",
    "X = pd.read_csv(\"../../result/input_perturb_expression/X\", sep=\"\\t\", index_col=0)\n",
    "gene1 = set(X.index)\n",
    "gene2 = set(go.index)\n",
    "valid_gene = list(set.intersection(gene1, gene2))\n",
    "valid_gene.sort()"
   ]
  },
  {
   "cell_type": "code",
   "execution_count": null,
   "id": "1b30c346",
   "metadata": {
    "scrolled": false
   },
   "outputs": [],
   "source": [
    "len(valid_gene)"
   ]
  },
  {
   "cell_type": "markdown",
   "id": "1fd6f046",
   "metadata": {},
   "source": [
    "### X"
   ]
  },
  {
   "cell_type": "code",
   "execution_count": null,
   "id": "f773b93f",
   "metadata": {
    "scrolled": true
   },
   "outputs": [],
   "source": [
    "X = pd.read_csv(\"../../result/input_perturb_expression/X\", sep=\"\\t\", index_col=0)\n",
    "X = X.loc[valid_gene]"
   ]
  },
  {
   "cell_type": "code",
   "execution_count": null,
   "id": "aa6efa05",
   "metadata": {
    "scrolled": true
   },
   "outputs": [],
   "source": [
    "X.to_csv(\"../../result/input_perturb_go/X\", sep=\"\\t\")"
   ]
  },
  {
   "cell_type": "markdown",
   "id": "a122c0f0",
   "metadata": {},
   "source": [
    "### Y"
   ]
  },
  {
   "cell_type": "code",
   "execution_count": null,
   "id": "242f19f9",
   "metadata": {
    "scrolled": true
   },
   "outputs": [],
   "source": [
    "go = go.loc[valid_gene].groupby('gene').mean()"
   ]
  },
  {
   "cell_type": "code",
   "execution_count": null,
   "id": "eb1d2d9d",
   "metadata": {
    "scrolled": true
   },
   "outputs": [],
   "source": [
    "go.to_csv(\"../../result/input_perturb_go/Y\", sep=\"\\t\")"
   ]
  }
 ],
 "metadata": {
  "kernelspec": {
   "display_name": "Python 3 (ipykernel)",
   "language": "python",
   "name": "python3"
  },
  "language_info": {
   "codemirror_mode": {
    "name": "ipython",
    "version": 3
   },
   "file_extension": ".py",
   "mimetype": "text/x-python",
   "name": "python",
   "nbconvert_exporter": "python",
   "pygments_lexer": "ipython3",
   "version": "3.10.8"
  }
 },
 "nbformat": 4,
 "nbformat_minor": 5
}
