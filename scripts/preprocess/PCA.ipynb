{
 "cells": [
  {
   "cell_type": "code",
   "execution_count": null,
   "id": "2d2db597",
   "metadata": {},
   "outputs": [],
   "source": [
    "import os\n",
    "import pandas as pd\n",
    "from sklearn.decomposition import PCA\n",
    "from sklearn.preprocessing import StandardScaler"
   ]
  },
  {
   "cell_type": "code",
   "execution_count": null,
   "id": "34e073e2",
   "metadata": {},
   "outputs": [],
   "source": [
    "folder = \"input_GTEx_go\"\n",
    "X = pd.read_csv(\"../../result/%s/X\" % folder, sep=\"\\t\", index_col=0)\n",
    "scaler = StandardScaler()\n",
    "data_standard = scaler.fit_transform(X)\n",
    "pca = PCA(n_components=50)\n",
    "data_pca = pca.fit_transform(data_standard)\n",
    "X_pca = pd.DataFrame(data_pca)\n",
    "X_pca.index = X.index\n",
    "X_pca.to_csv(\"../../result/%s/X_PCA\" % folder, sep=\"\\t\")"
   ]
  }
 ],
 "metadata": {
  "kernelspec": {
   "display_name": "Python 3 (ipykernel)",
   "language": "python",
   "name": "python3"
  },
  "language_info": {
   "codemirror_mode": {
    "name": "ipython",
    "version": 3
   },
   "file_extension": ".py",
   "mimetype": "text/x-python",
   "name": "python",
   "nbconvert_exporter": "python",
   "pygments_lexer": "ipython3",
   "version": "3.10.8"
  }
 },
 "nbformat": 4,
 "nbformat_minor": 5
}
