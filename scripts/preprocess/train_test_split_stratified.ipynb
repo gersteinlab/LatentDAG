{
 "cells": [
  {
   "cell_type": "code",
   "execution_count": null,
   "id": "37186415",
   "metadata": {},
   "outputs": [],
   "source": [
    "import os\n",
    "import numpy as np\n",
    "import pandas as pd\n",
    "from sklearn.model_selection import train_test_split"
   ]
  },
  {
   "cell_type": "code",
   "execution_count": null,
   "id": "44a5dc4f",
   "metadata": {},
   "outputs": [],
   "source": [
    "input_dir = \"../../result/input_GTEx_phyloP/\"\n",
    "network_dir = \"../../result/network_GTEx_phyloP/\""
   ]
  },
  {
   "cell_type": "code",
   "execution_count": null,
   "id": "3e7a4634",
   "metadata": {
    "scrolled": true
   },
   "outputs": [],
   "source": [
    "dag = pd.read_csv(network_dir+\"DAGMA_threshold0.3.tsv\", sep=\"\\t\", header=None)\n",
    "id2genes = pd.read_csv(network_dir+\"valid_genes\", sep=\"\\t\").set_index(\"ID\")['genes'].to_dict()\n",
    "dag[0] = dag[0].map(id2genes)\n",
    "dag[1] = dag[1].map(id2genes)\n",
    "dag_genes = list(set.union(set(dag[0]), set(dag[1])))"
   ]
  },
  {
   "cell_type": "code",
   "execution_count": null,
   "id": "f8a199e6",
   "metadata": {},
   "outputs": [],
   "source": [
    "X = pd.read_csv(input_dir+\"X\", sep=\"\\t\", index_col=0)\n",
    "Y = pd.read_csv(input_dir+\"Y\", sep=\"\\t\", index_col=0)"
   ]
  },
  {
   "cell_type": "code",
   "execution_count": null,
   "id": "e92fbf1c",
   "metadata": {
    "scrolled": false
   },
   "outputs": [],
   "source": [
    "for rs in range(1, 11):\n",
    "    output_dir = \"%s/stratified_%d/\" % (input_dir, rs)\n",
    "    os.makedirs(output_dir, exist_ok=True)\n",
    "\n",
    "    # 0.1 test size\n",
    "    group = np.zeros(X.shape[0])\n",
    "    group[X.index.isin(dag_genes)] = 1\n",
    "    X2, X_test, Y2, Y_test = train_test_split(X, Y, test_size=0.1, random_state=111+rs, stratify=group)\n",
    "    # 0.9*0.222=0.2 valid size\n",
    "    # 0.9*0.777=0.7 train size\n",
    "    group = np.zeros(X2.shape[0])\n",
    "    group[X2.index.isin(dag_genes)] = 1\n",
    "    X_train, X_valid, Y_train, Y_valid = train_test_split(X2, Y2, test_size=0.2222, random_state=111+rs, stratify=group)\n",
    "\n",
    "    X_train.to_csv(output_dir + \"X_train\", sep=\"\\t\")\n",
    "    X_valid.to_csv(output_dir + \"X_valid\", sep=\"\\t\")\n",
    "    X_test.to_csv(output_dir + \"X_test\", sep=\"\\t\")\n",
    "    Y_train.to_csv(output_dir + \"Y_train\", sep=\"\\t\")\n",
    "    Y_valid.to_csv(output_dir + \"Y_valid\", sep=\"\\t\")\n",
    "    Y_test.to_csv(output_dir + \"Y_test\", sep=\"\\t\")\n",
    "    \n",
    "    genes = list(X_train.index) + list(X_valid.index) + list(X_test.index)\n",
    "    pd.DataFrame(genes).to_csv(output_dir + \"genes_train_valid_test\", index=False, header=False)"
   ]
  }
 ],
 "metadata": {
  "kernelspec": {
   "display_name": "Python 3 (ipykernel)",
   "language": "python",
   "name": "python3"
  },
  "language_info": {
   "codemirror_mode": {
    "name": "ipython",
    "version": 3
   },
   "file_extension": ".py",
   "mimetype": "text/x-python",
   "name": "python",
   "nbconvert_exporter": "python",
   "pygments_lexer": "ipython3",
   "version": "3.10.8"
  }
 },
 "nbformat": 4,
 "nbformat_minor": 5
}
