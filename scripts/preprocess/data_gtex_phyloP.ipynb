{
 "cells": [
  {
   "cell_type": "code",
   "execution_count": null,
   "id": "0e5ebb61",
   "metadata": {},
   "outputs": [],
   "source": [
    "import pandas as pd\n",
    "import numpy as np\n",
    "\n",
    "from sklearn.model_selection import train_test_split"
   ]
  },
  {
   "cell_type": "code",
   "execution_count": null,
   "id": "d247aa69",
   "metadata": {},
   "outputs": [],
   "source": [
    "# common genes between datasets\n",
    "df = pd.read_csv(\"../../data/GTEx/bulk-gex_v8_rna-seq_tpms-by-tissue_gene_tpm_2017-06-05_v8_cells_ebv-transformed_lymphocytes.gct.gz\", sep=\"\\t\", skiprows=2)\n",
    "gtex_genes = df[\"Name\"].values\n",
    "gtex_genes = [ii.split(\".\")[0] for ii in gtex_genes]\n",
    "df['Name'] = gtex_genes\n",
    "gtex_genes = set(gtex_genes)\n",
    "\n",
    "phastcons = pd.read_csv(\"../../data/conservation/HS_phyloP.tab\", sep=\"\\t\", header=None)\n",
    "phastcons_genes = set(phastcons[0].unique())\n",
    "\n",
    "genes = set.intersection(gtex_genes, phastcons_genes)"
   ]
  },
  {
   "cell_type": "code",
   "execution_count": null,
   "id": "ed75b1fc",
   "metadata": {},
   "outputs": [],
   "source": [
    "# X\n",
    "df = df[df['Name'].isin(genes)].copy()\n",
    "del df['id'], df['Description']\n",
    "df = df.set_index(\"Name\")\n",
    "mean_qt = df.mean(axis=1).quantile(0.95)\n",
    "std_qt = df.std(axis=1).quantile(0.95)\n",
    "df = df[(df.std(axis=1) > std_qt) & (df.mean(axis=1) > mean_qt)]\n",
    "\n",
    "df = df.sort_index()\n",
    "df = df.T.sort_index().T\n",
    "\n",
    "df.index.name = None\n",
    "X = df.copy()\n",
    "X.to_csv(\"../../result/input_GTEx_phyloP/X\", sep=\"\\t\")"
   ]
  },
  {
   "cell_type": "code",
   "execution_count": null,
   "id": "576f4864",
   "metadata": {},
   "outputs": [],
   "source": [
    "Y = phastcons.loc[phastcons[0].isin(X.index.values), [0,5]]\n",
    "Y.columns = ['gene', 'conservation']\n",
    "Y = Y.sort_values(\"gene\")\n",
    "Y.to_csv(\"../../result/input_GTEx_phyloP/Y\", sep=\"\\t\", index=False)"
   ]
  }
 ],
 "metadata": {
  "kernelspec": {
   "display_name": "Python 3 (ipykernel)",
   "language": "python",
   "name": "python3"
  },
  "language_info": {
   "codemirror_mode": {
    "name": "ipython",
    "version": 3
   },
   "file_extension": ".py",
   "mimetype": "text/x-python",
   "name": "python",
   "nbconvert_exporter": "python",
   "pygments_lexer": "ipython3",
   "version": "3.10.8"
  }
 },
 "nbformat": 4,
 "nbformat_minor": 5
}
