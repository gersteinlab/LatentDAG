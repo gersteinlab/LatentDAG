{
 "cells": [
  {
   "cell_type": "code",
   "execution_count": 1,
   "id": "mathematical-reply",
   "metadata": {},
   "outputs": [],
   "source": [
    "import os\n",
    "import pandas as pd\n",
    "import scanpy as sc"
   ]
  },
  {
   "cell_type": "code",
   "execution_count": 2,
   "id": "cc907526",
   "metadata": {},
   "outputs": [],
   "source": [
    "genes = pd.read_csv(\"../../result/network_perturb_phyloP/valid_genes\", sep=\"\\t\")\n",
    "id2genes = genes.set_index(\"ID\")[\"genes\"].to_dict()\n",
    "genes2id = genes.set_index(\"genes\")[\"ID\"].to_dict()\n",
    "genes = genes['genes'].values"
   ]
  },
  {
   "cell_type": "code",
   "execution_count": 3,
   "id": "f44b7a48",
   "metadata": {},
   "outputs": [],
   "source": [
    "meta = pd.read_csv(\"../../data/TIP/metadata.tsv\", sep=\"\\t\")\n",
    "meta['TF'] = meta['Experiment target'].str.split(\"-human\", expand=True)[0]\n",
    "meta = meta[meta['TF'].isin(genes)] # keep TF in genes only\n",
    "meta = meta[meta['Output type'] == \"IDR thresholded peaks\"]\n",
    "meta = meta[meta['Biosample term name'] == \"K562\"] # filter for K562 only"
   ]
  },
  {
   "cell_type": "code",
   "execution_count": 4,
   "id": "1ac79eef",
   "metadata": {},
   "outputs": [
    {
     "name": "stdout",
     "output_type": "stream",
     "text": [
      "144 144\n"
     ]
    }
   ],
   "source": [
    "all_files = os.listdir(\"../../data/TIP/weight/\")\n",
    "all_files = set([ii.split(\".txt\")[0] for ii in all_files])\n",
    "sample_files = set(meta['File accession'])\n",
    "print(len(sample_files), len(set.intersection(sample_files, all_files))) # K562 is a subset of all"
   ]
  },
  {
   "cell_type": "markdown",
   "id": "commercial-courtesy",
   "metadata": {},
   "source": [
    "### parse result to network"
   ]
  },
  {
   "cell_type": "code",
   "execution_count": 5,
   "id": "89530d6b",
   "metadata": {},
   "outputs": [],
   "source": [
    "meta = pd.read_csv(\"../../data/TIP/meta_perturb.tsv\", sep=\"\\t\")\n",
    "meta = meta[meta['File accession'].isin(sample_files)]"
   ]
  },
  {
   "cell_type": "code",
   "execution_count": 6,
   "id": "seasonal-vector",
   "metadata": {},
   "outputs": [],
   "source": [
    "data = sc.read_h5ad(\"../../data/perturb/K562_gwps_normalized_bulk_01.h5ad\")\n",
    "eid2name = data.var[data.var['gene_name'].isin(genes)]['gene_name'].to_dict()\n",
    "\n",
    "result = {}\n",
    "for fid, TF in meta.values:\n",
    "    df = pd.read_csv(\"../../data/TIP/qval/%s.txt\" % fid, sep=\"\\t\")\n",
    "    df[\"name\"] = df[\"name\"].map(eid2name) # keep target in genes only and convert to gene name\n",
    "    df = df.dropna()\n",
    "    targets = set(df['name'].unique())\n",
    "    if TF in result.keys():\n",
    "        result[TF] = set.union(result[TF], targets)\n",
    "    else:\n",
    "        result[TF] = targets"
   ]
  },
  {
   "cell_type": "code",
   "execution_count": 7,
   "id": "incorrect-store",
   "metadata": {},
   "outputs": [],
   "source": [
    "source = []\n",
    "target = []\n",
    "for ii in result.keys():\n",
    "    source += [ii] * len(result[ii])\n",
    "    target += list(result[ii])"
   ]
  },
  {
   "cell_type": "code",
   "execution_count": 8,
   "id": "cc7b6c3f",
   "metadata": {},
   "outputs": [],
   "source": [
    "net = pd.DataFrame([source, target]).T\n",
    "net[0] = net[0].map(genes2id)\n",
    "net[1] = net[1].map(genes2id)\n",
    "\n",
    "net = net.dropna().copy()\n",
    "net[0] = net[0].astype(int)\n",
    "net[1] = net[1].astype(int)"
   ]
  },
  {
   "cell_type": "code",
   "execution_count": 9,
   "id": "egyptian-still",
   "metadata": {},
   "outputs": [],
   "source": [
    "net = net.drop_duplicates().sort_values([0, 1])\n",
    "net.to_csv(\"../../result/network_perturb_phyloP/ChIP_TIP_K562.tsv\", sep=\"\\t\", header=False, index=False)"
   ]
  }
 ],
 "metadata": {
  "kernelspec": {
   "display_name": "Python 3 (ipykernel)",
   "language": "python",
   "name": "python3"
  },
  "language_info": {
   "codemirror_mode": {
    "name": "ipython",
    "version": 3
   },
   "file_extension": ".py",
   "mimetype": "text/x-python",
   "name": "python",
   "nbconvert_exporter": "python",
   "pygments_lexer": "ipython3",
   "version": "3.8.16"
  }
 },
 "nbformat": 4,
 "nbformat_minor": 5
}
