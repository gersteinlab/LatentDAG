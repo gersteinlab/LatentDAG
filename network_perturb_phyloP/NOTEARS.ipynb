{
 "cells": [
  {
   "cell_type": "code",
   "execution_count": 1,
   "id": "ea471e62",
   "metadata": {},
   "outputs": [],
   "source": [
    "import numpy as np\n",
    "import pandas as pd\n",
    "import sys\n",
    "sys.path.insert(1, '/home/jg2447/slayman/perturb/notears/notears/')\n",
    "from linear import notears_linear\n",
    "from utils import is_dag"
   ]
  },
  {
   "cell_type": "code",
   "execution_count": 2,
   "id": "060f5d60",
   "metadata": {},
   "outputs": [],
   "source": [
    "X = pd.read_csv(\"../../result/input_perturb_phyloP/X\", sep=\"\\t\", index_col=0)\n",
    "X = X.T.values"
   ]
  },
  {
   "cell_type": "markdown",
   "id": "backed-ecuador",
   "metadata": {},
   "source": [
    "### run NOTEARS without threshold"
   ]
  },
  {
   "cell_type": "code",
   "execution_count": null,
   "id": "881f37a3",
   "metadata": {},
   "outputs": [],
   "source": [
    "W_est = notears_linear(X, lambda1=0.1, loss_type='l2')\n",
    "pd.DataFrame(W_est).to_csv('../../result/network_perturb_phyloP/NOTEARS_w_est.csv', sep=\"\\t\", index=False, header=False)"
   ]
  },
  {
   "cell_type": "markdown",
   "id": "legislative-drama",
   "metadata": {},
   "source": [
    "### custom threshold"
   ]
  },
  {
   "cell_type": "code",
   "execution_count": 3,
   "id": "weighted-nicholas",
   "metadata": {},
   "outputs": [],
   "source": [
    "W_est = pd.read_csv(\"../../result/network_perturb_phyloP/NOTEARS_w_est.csv\", sep=\"\\t\", header=None).values"
   ]
  },
  {
   "cell_type": "code",
   "execution_count": 4,
   "id": "84b4ba55",
   "metadata": {},
   "outputs": [
    {
     "data": {
      "text/plain": [
       "True"
      ]
     },
     "execution_count": 4,
     "metadata": {},
     "output_type": "execute_result"
    }
   ],
   "source": [
    "W_est_final = W_est.copy()\n",
    "W_est_final[np.abs(W_est) < 0.3] = 0\n",
    "is_dag(W_est_final)"
   ]
  },
  {
   "cell_type": "code",
   "execution_count": 6,
   "id": "bb34d313",
   "metadata": {},
   "outputs": [],
   "source": [
    "edge_list = np.array(list(zip(*np.nonzero(W_est_final))))\n",
    "edge_index = pd.DataFrame(edge_list)\n",
    "edge_index.to_csv(\"../../result/network_perturb_phyloP/NOTEARS_threshold0.3.tsv\", sep=\"\\t\", header=False, index=False)"
   ]
  },
  {
   "cell_type": "markdown",
   "id": "banned-configuration",
   "metadata": {},
   "source": [
    "###### slightly decrease the threshold until W_est_final is no longer a DAG"
   ]
  },
  {
   "cell_type": "code",
   "execution_count": 7,
   "id": "marine-atlas",
   "metadata": {},
   "outputs": [
    {
     "data": {
      "text/plain": [
       "True"
      ]
     },
     "execution_count": 7,
     "metadata": {},
     "output_type": "execute_result"
    }
   ],
   "source": [
    "W_est_final = W_est.copy()\n",
    "W_est_final[np.abs(W_est) < 0.21037048] = 0\n",
    "is_dag(W_est_final)"
   ]
  },
  {
   "cell_type": "code",
   "execution_count": 8,
   "id": "joint-emerald",
   "metadata": {},
   "outputs": [],
   "source": [
    "edge_list = np.array(list(zip(*np.nonzero(W_est_final))))\n",
    "edge_index = pd.DataFrame(edge_list)\n",
    "edge_index.to_csv(\"../../result/network_perturb_phyloP/NOTEARS_thresholdAdaptive.tsv\", sep=\"\\t\", header=False, index=False)"
   ]
  }
 ],
 "metadata": {
  "kernelspec": {
   "display_name": "Python 3 (ipykernel)",
   "language": "python",
   "name": "python3"
  },
  "language_info": {
   "codemirror_mode": {
    "name": "ipython",
    "version": 3
   },
   "file_extension": ".py",
   "mimetype": "text/x-python",
   "name": "python",
   "nbconvert_exporter": "python",
   "pygments_lexer": "ipython3",
   "version": "3.8.16"
  }
 },
 "nbformat": 4,
 "nbformat_minor": 5
}
