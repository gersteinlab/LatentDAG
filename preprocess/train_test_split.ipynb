{
 "cells": [
  {
   "cell_type": "code",
   "execution_count": 1,
   "id": "c0098813",
   "metadata": {},
   "outputs": [],
   "source": [
    "import os\n",
    "import numpy as np\n",
    "import pandas as pd\n",
    "from sklearn.model_selection import train_test_split"
   ]
  },
  {
   "cell_type": "markdown",
   "id": "962fd215",
   "metadata": {},
   "source": [
    "### regular split"
   ]
  },
  {
   "cell_type": "code",
   "execution_count": 2,
   "id": "0d2e65a2",
   "metadata": {},
   "outputs": [],
   "source": [
    "input_dir = \"../../result/input_perturb_go/\""
   ]
  },
  {
   "cell_type": "code",
   "execution_count": 3,
   "id": "83ea94ab",
   "metadata": {},
   "outputs": [],
   "source": [
    "X = pd.read_csv(input_dir+\"X\", sep=\"\\t\", index_col=0)\n",
    "Y = pd.read_csv(input_dir+\"Y\", sep=\"\\t\", index_col=0)"
   ]
  },
  {
   "cell_type": "code",
   "execution_count": 4,
   "id": "2d08bb38",
   "metadata": {},
   "outputs": [],
   "source": [
    "# 0.1 test size\n",
    "X2, X_test, Y2, Y_test = train_test_split(X, Y, test_size=0.1, random_state=123)\n",
    "# 0.9*0.222=0.2 valid size\n",
    "# 0.9*0.777=0.7 train size\n",
    "X_train, X_valid, Y_train, Y_valid = train_test_split(X2, Y2, test_size=0.2222, random_state=100)"
   ]
  },
  {
   "cell_type": "code",
   "execution_count": 5,
   "id": "40eb4069",
   "metadata": {},
   "outputs": [],
   "source": [
    "X_train.to_csv(input_dir+\"X_train\", sep=\"\\t\")\n",
    "X_valid.to_csv(input_dir+\"X_valid\", sep=\"\\t\")\n",
    "X_test.to_csv(input_dir+\"X_test\", sep=\"\\t\")\n",
    "Y_train.to_csv(input_dir+\"Y_train\", sep=\"\\t\")\n",
    "Y_valid.to_csv(input_dir+\"Y_valid\", sep=\"\\t\")\n",
    "Y_test.to_csv(input_dir+\"Y_test\", sep=\"\\t\")"
   ]
  },
  {
   "cell_type": "code",
   "execution_count": 6,
   "id": "23a4a91a",
   "metadata": {},
   "outputs": [],
   "source": [
    "genes = list(X_train.index) + list(X_valid.index) + list(X_test.index)\n",
    "pd.DataFrame(genes).to_csv(input_dir+\"genes_train_valid_test\", index=False, header=False)"
   ]
  },
  {
   "cell_type": "markdown",
   "id": "9d57d74f",
   "metadata": {},
   "source": [
    "### stratified by existence in DAGMA result\n",
    "repeat with 10 different random seeds"
   ]
  },
  {
   "cell_type": "code",
   "execution_count": 7,
   "id": "bf5a0647",
   "metadata": {},
   "outputs": [],
   "source": [
    "input_dir = \"../../result/input_perturb_go/\"\n",
    "network_dir = \"../../result/network_perturb_go/\""
   ]
  },
  {
   "cell_type": "code",
   "execution_count": 8,
   "id": "d366a651",
   "metadata": {},
   "outputs": [],
   "source": [
    "X = pd.read_csv(input_dir+\"X\", sep=\"\\t\", index_col=0)\n",
    "Y = pd.read_csv(input_dir+\"Y\", sep=\"\\t\", index_col=0)"
   ]
  },
  {
   "cell_type": "code",
   "execution_count": 9,
   "id": "527573a8",
   "metadata": {},
   "outputs": [],
   "source": [
    "dag = pd.read_csv(network_dir+\"DAGMA_thresholdAdaptive.tsv\", sep=\"\\t\", header=None)\n",
    "id2genes = pd.read_csv(network_dir+\"valid_genes\", sep=\"\\t\").set_index(\"ID\")['genes'].to_dict()\n",
    "dag[0] = dag[0].map(id2genes)\n",
    "dag[1] = dag[1].map(id2genes)\n",
    "dag_genes = list(set.union(set(dag[0]), set(dag[1])))"
   ]
  },
  {
   "cell_type": "code",
   "execution_count": 10,
   "id": "8a2ed613",
   "metadata": {},
   "outputs": [],
   "source": [
    "for rs in range(10):\n",
    "    os.makedirs(\"%s/%d/\" % (input_dir, rs), exist_ok=True)\n",
    "    # 0.1 test size\n",
    "    group = np.zeros(X.shape[0])\n",
    "    group[X.index.isin(dag_genes)] = 1\n",
    "    X2, X_test, Y2, Y_test = train_test_split(X, Y, test_size=0.1, random_state=123+rs, stratify=group)\n",
    "    # 0.9*0.222=0.2 valid size\n",
    "    # 0.9*0.777=0.7 train size\n",
    "    group = np.zeros(X2.shape[0])\n",
    "    group[X2.index.isin(dag_genes)] = 1\n",
    "    X_train, X_valid, Y_train, Y_valid = train_test_split(X2, Y2, test_size=0.2222, random_state=123+rs, stratify=group)\n",
    "\n",
    "    X_train.to_csv(\"%s/%d/X_train_stratified\" % (input_dir, rs), sep=\"\\t\")\n",
    "    X_valid.to_csv(\"%s/%d/X_valid_stratified\" % (input_dir, rs), sep=\"\\t\")\n",
    "    X_test.to_csv(\"%s/%d/X_test_stratified\" % (input_dir, rs), sep=\"\\t\")\n",
    "    Y_train.to_csv(\"%s/%d/Y_train_stratified\" % (input_dir, rs), sep=\"\\t\")\n",
    "    Y_valid.to_csv(\"%s/%d/Y_valid_stratified\" % (input_dir, rs), sep=\"\\t\")\n",
    "    Y_test.to_csv(\"%s/%d/Y_test_stratified\" % (input_dir, rs), sep=\"\\t\")\n",
    "\n",
    "    genes = list(X_train.index) + list(X_valid.index) + list(X_test.index)\n",
    "    pd.DataFrame(genes).to_csv(\"%s/%d/genes_train_valid_test_stratified\" % (input_dir, rs), index=False, header=False)"
   ]
  }
 ],
 "metadata": {
  "kernelspec": {
   "display_name": "Python 3 (ipykernel)",
   "language": "python",
   "name": "python3"
  },
  "language_info": {
   "codemirror_mode": {
    "name": "ipython",
    "version": 3
   },
   "file_extension": ".py",
   "mimetype": "text/x-python",
   "name": "python",
   "nbconvert_exporter": "python",
   "pygments_lexer": "ipython3",
   "version": "3.8.16"
  }
 },
 "nbformat": 4,
 "nbformat_minor": 5
}
