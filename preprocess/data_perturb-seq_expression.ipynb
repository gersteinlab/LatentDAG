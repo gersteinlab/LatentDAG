{
 "cells": [
  {
   "cell_type": "code",
   "execution_count": null,
   "id": "216ea621",
   "metadata": {},
   "outputs": [],
   "source": [
    "import pandas as pd\n",
    "import scanpy as sc\n",
    "import numpy as np"
   ]
  },
  {
   "cell_type": "markdown",
   "id": "994d5e9a",
   "metadata": {},
   "source": [
    "### X"
   ]
  },
  {
   "cell_type": "code",
   "execution_count": null,
   "id": "2da8d75a",
   "metadata": {},
   "outputs": [],
   "source": [
    "df = pd.read_csv(\"../../data/perturb/clustered_mean_gene_expression_figs2-4.csv\", sep=\",\", index_col=0, low_memory=False)\n",
    "df = df.iloc[2:, 1:]\n",
    "\n",
    "# convert perturb experiment name to perturb gene name\n",
    "df.columns = pd.DataFrame(df.columns)[0].str.split(\"_\", expand=True)[1].values\n",
    "\n",
    "# take mean of two experiment if perturb genes is the same\n",
    "df = df.T\n",
    "df.index.name = 'perturb'\n",
    "df = df.groupby('perturb').mean()\n",
    "df = df.sort_index()\n",
    "col_names = list(df.columns)\n",
    "col_names.sort()\n",
    "df = df.loc[:, col_names]\n",
    "\n",
    "# the perturbed gene is set to have 0 expression\n",
    "df = df.fillna(0).T"
   ]
  },
  {
   "cell_type": "code",
   "execution_count": null,
   "id": "49f5db0a",
   "metadata": {
    "scrolled": true
   },
   "outputs": [],
   "source": [
    "# sort both axis by gene name\n",
    "df.index.name = None\n",
    "df.columns.name = None\n",
    "df = df.sort_index()\n",
    "df = df.T\n",
    "df = df.sort_index()\n",
    "df = df.T"
   ]
  },
  {
   "cell_type": "code",
   "execution_count": null,
   "id": "030b66a1",
   "metadata": {},
   "outputs": [],
   "source": [
    "df.to_csv(\"../../result/input_perturb_expression/X\", sep=\"\\t\")"
   ]
  },
  {
   "cell_type": "markdown",
   "id": "9aa33993",
   "metadata": {},
   "source": [
    "### Y"
   ]
  },
  {
   "cell_type": "code",
   "execution_count": null,
   "id": "8e869278",
   "metadata": {},
   "outputs": [],
   "source": [
    "gene_names = df.index.values\n",
    "\n",
    "data = sc.read_h5ad(\"../../data/perturb/K562_gwps_normalized_bulk_01.h5ad\")\n",
    "ctrl_id = list(data.obs[data.obs['core_control']].index)\n",
    "\n",
    "# take mean of ctrl experiments\n",
    "ctrl_exp = data.to_df().loc[ctrl_id, :].mean()\n",
    "ctrl_exp.index = ctrl_exp.index.map(data.var['gene_name'].to_dict())\n",
    "Y = ctrl_exp[gene_names].groupby('gene_id').mean()[gene_names].to_frame()\n",
    "Y.index.name = \"gene\"\n",
    "Y.columns = [\"wt_exp\"]"
   ]
  },
  {
   "cell_type": "code",
   "execution_count": null,
   "id": "f7af28ff",
   "metadata": {},
   "outputs": [],
   "source": [
    "Y.to_csv(\"../../result/input_perturb_expression/Y\", sep=\"\\t\")"
   ]
  }
 ],
 "metadata": {
  "kernelspec": {
   "display_name": "Python 3 (ipykernel)",
   "language": "python",
   "name": "python3"
  },
  "language_info": {
   "codemirror_mode": {
    "name": "ipython",
    "version": 3
   },
   "file_extension": ".py",
   "mimetype": "text/x-python",
   "name": "python",
   "nbconvert_exporter": "python",
   "pygments_lexer": "ipython3",
   "version": "3.8.16"
  }
 },
 "nbformat": 4,
 "nbformat_minor": 5
}
