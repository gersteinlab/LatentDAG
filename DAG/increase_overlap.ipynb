{
 "cells": [
  {
   "cell_type": "code",
   "execution_count": null,
   "id": "8e23ddb8",
   "metadata": {},
   "outputs": [],
   "source": [
    "import pandas as pd\n",
    "import networkx as nx\n",
    "import numpy as np\n",
    "from scipy.stats import norm"
   ]
  },
  {
   "cell_type": "code",
   "execution_count": null,
   "id": "81696990",
   "metadata": {},
   "outputs": [],
   "source": [
    "import sys\n",
    "sys.path.insert(0, '/home/jg2447/slayman/perturb/dagma/')\n",
    "from utils import *"
   ]
  },
  {
   "cell_type": "markdown",
   "id": "0c136ce6",
   "metadata": {},
   "source": [
    "### overlap with len2 ChIP"
   ]
  },
  {
   "cell_type": "code",
   "execution_count": null,
   "id": "501dddcc",
   "metadata": {},
   "outputs": [],
   "source": [
    "chip = pd.read_csv(\"../../result/network/ChIP_TIP.tsv\", header=None, sep=\"\\t\")\n",
    "chip.columns = ['source', 'target']\n",
    "chip = nx.from_pandas_edgelist(chip, create_using=nx.DiGraph)\n",
    "chip_adj = nx.to_pandas_adjacency(chip)\n",
    "\n",
    "A_chip = chip_adj.copy()\n",
    "for ii in set(list(range(2319))) - set(chip_adj.index):\n",
    "    A_chip[ii] = 0\n",
    "A_chip = A_chip.T\n",
    "for ii in set(list(range(2319))) - set(chip_adj.index):\n",
    "    A_chip[ii] = 0\n",
    "A_chip = A_chip.T\n",
    "A_chip = A_chip.loc[list(range(2319)), list(range(2319))].copy()"
   ]
  },
  {
   "cell_type": "code",
   "execution_count": null,
   "id": "6399c166",
   "metadata": {},
   "outputs": [],
   "source": [
    "dagma = pd.read_csv(\"../../result/network/DAGMA_DAG.tsv\", header=None, sep=\"\\t\")\n",
    "count = 0\n",
    "A2 = A_chip @ A_chip\n",
    "for pair in dagma.values:\n",
    "    if A2.loc[pair[0], pair[1]] > 0:\n",
    "        count += 1\n",
    "print(count)"
   ]
  },
  {
   "cell_type": "markdown",
   "id": "5cb7eb00",
   "metadata": {},
   "source": [
    "### overlap with len2 ChIP+Biogrid"
   ]
  },
  {
   "cell_type": "code",
   "execution_count": null,
   "id": "01a1e4c4",
   "metadata": {},
   "outputs": [],
   "source": [
    "biogrid = pd.read_csv(\"../../result/network/BIOGRID.tsv\", header=None, sep=\"\\t\")\n",
    "biogrid.columns = ['source', 'target']\n",
    "biogrid = nx.from_pandas_edgelist(biogrid, create_using=nx.DiGraph)\n",
    "biogrid_adj = nx.to_pandas_adjacency(biogrid)\n",
    "\n",
    "A_biogrid = biogrid_adj.copy()\n",
    "for ii in set(list(range(2319))) - set(biogrid_adj.index):\n",
    "    A_biogrid[ii] = 0\n",
    "A_biogrid = A_biogrid.T\n",
    "for ii in set(list(range(2319))) - set(biogrid_adj.index):\n",
    "    A_biogrid[ii] = 0\n",
    "A_biogrid = A_biogrid.T\n",
    "A_biogrid = A_biogrid.loc[list(range(2319)), list(range(2319))].copy()\n",
    "\n",
    "A_combine = A_biogrid + A_chip"
   ]
  },
  {
   "cell_type": "code",
   "execution_count": null,
   "id": "b6118a3b",
   "metadata": {},
   "outputs": [],
   "source": [
    "dagma = pd.read_csv(\"../../result/network/DAGMA_DAG.tsv\", header=None, sep=\"\\t\")\n",
    "count = 0\n",
    "A2 = A_combine @ A_combine\n",
    "for pair in dagma.values:\n",
    "    if A2.loc[pair[0], pair[1]] > 0:\n",
    "        count += 1\n",
    "print(count)"
   ]
  },
  {
   "cell_type": "markdown",
   "id": "6a42e819",
   "metadata": {},
   "source": [
    "### overlap with len2 ChIP+random"
   ]
  },
  {
   "cell_type": "code",
   "execution_count": null,
   "id": "40f4f329",
   "metadata": {},
   "outputs": [],
   "source": [
    "biogrid = pd.read_csv(\"../../result/network/BIOGRID.tsv\", header=None, sep=\"\\t\")\n",
    "biogrid_len = len(biogrid)\n",
    "count_list = []\n",
    "for ii in range(50):\n",
    "    random = simulate_dag(2319, biogrid_len, \"ER\")\n",
    "    A_combine2 = A_chip + random\n",
    "\n",
    "    dagma = pd.read_csv(\"../../result/network/DAGMA_DAG.tsv\", header=None, sep=\"\\t\")\n",
    "    count = 0\n",
    "    A2 = A_combine2 @ A_combine2\n",
    "    for pair in dagma.values:\n",
    "        if A2.loc[pair[0], pair[1]] > 0:\n",
    "            count += 1\n",
    "    count_list.append(count)"
   ]
  },
  {
   "cell_type": "code",
   "execution_count": null,
   "id": "665cc074",
   "metadata": {},
   "outputs": [],
   "source": [
    "Z = (126 - np.mean(count_list)) / np.std(count_list)\n",
    "p_values = norm.sf(Z)"
   ]
  },
  {
   "cell_type": "code",
   "execution_count": null,
   "id": "aff04276",
   "metadata": {},
   "outputs": [],
   "source": [
    "p_values"
   ]
  }
 ],
 "metadata": {
  "kernelspec": {
   "display_name": "Python 3 (ipykernel)",
   "language": "python",
   "name": "python3"
  },
  "language_info": {
   "codemirror_mode": {
    "name": "ipython",
    "version": 3
   },
   "file_extension": ".py",
   "mimetype": "text/x-python",
   "name": "python",
   "nbconvert_exporter": "python",
   "pygments_lexer": "ipython3",
   "version": "3.10.8"
  }
 },
 "nbformat": 4,
 "nbformat_minor": 5
}
