{
 "cells": [
  {
   "cell_type": "code",
   "execution_count": null,
   "id": "wireless-emperor",
   "metadata": {},
   "outputs": [],
   "source": [
    "import pandas as pd\n",
    "import igraph as ig\n",
    "import leidenalg as la"
   ]
  },
  {
   "cell_type": "code",
   "execution_count": null,
   "id": "iraqi-banks",
   "metadata": {},
   "outputs": [],
   "source": [
    "dagma = pd.read_csv(\"../../result/network/DAGMA_DAG.tsv\", header=None, sep=\"\\t\")\n",
    "dagma_g = ig.Graph.TupleList([tuple(x) for x in dagma.values])\n",
    "partition = la.find_partition(dagma_g, la.ModularityVertexPartition, seed=100)\n",
    "labels = pd.DataFrame([dagma_g.vs()['name'], partition.membership]).T\n",
    "id2name = pd.read_csv(\"../../result/data/genes_gene_perturb\", header=None)[0].to_dict()\n",
    "labels[0] = labels[0].map(id2name)\n",
    "labels.to_csv(\"../../result/cytoscape/dagma_leiden.tsv\", sep=\"\\t\", index=False, header=False)"
   ]
  }
 ],
 "metadata": {
  "kernelspec": {
   "display_name": "Python 3 (ipykernel)",
   "language": "python",
   "name": "python3"
  },
  "language_info": {
   "codemirror_mode": {
    "name": "ipython",
    "version": 3
   },
   "file_extension": ".py",
   "mimetype": "text/x-python",
   "name": "python",
   "nbconvert_exporter": "python",
   "pygments_lexer": "ipython3",
   "version": "3.10.8"
  }
 },
 "nbformat": 4,
 "nbformat_minor": 5
}
