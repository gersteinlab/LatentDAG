{
 "cells": [
  {
   "cell_type": "code",
   "execution_count": null,
   "id": "ea471e62",
   "metadata": {},
   "outputs": [],
   "source": [
    "import os\n",
    "import numpy as np\n",
    "import pandas as pd\n",
    "import torch\n",
    "import torch.nn.functional as F\n",
    "import torch_geometric\n",
    "import copy\n",
    "from sklearn.metrics import mean_squared_error"
   ]
  },
  {
   "cell_type": "markdown",
   "id": "b9c67fae",
   "metadata": {},
   "source": [
    "### data"
   ]
  },
  {
   "cell_type": "code",
   "execution_count": null,
   "id": "b04f91b3",
   "metadata": {},
   "outputs": [],
   "source": [
    "network_name = \"DAGMA_DAG\""
   ]
  },
  {
   "cell_type": "code",
   "execution_count": null,
   "id": "08c3a0f8",
   "metadata": {},
   "outputs": [],
   "source": [
    "X_train = pd.read_csv(\"../result/data/X_train\", sep=\"\\t\", header=None).values\n",
    "X_valid = pd.read_csv(\"../result/data/X_valid\", sep=\"\\t\", header=None).values\n",
    "X_test = pd.read_csv(\"../result/data/X_test\", sep=\"\\t\", header=None).values\n",
    "Y_train = pd.read_csv(\"../result/data/Y_train\", sep=\"\\t\", header=None).values.reshape(-1) * 1000\n",
    "Y_valid = pd.read_csv(\"../result/data/Y_valid\", sep=\"\\t\", header=None).values.reshape(-1) * 1000\n",
    "Y_test = pd.read_csv(\"../result/data/Y_test\", sep=\"\\t\", header=None).values.reshape(-1) * 1000\n",
    "\n",
    "X = np.concatenate([X_train, X_valid, X_test])\n",
    "Y = np.concatenate([Y_train, Y_valid, Y_test])\n",
    "\n",
    "train_mask = np.concatenate([[True] * len(X_train), [False] * len(X_valid), [False] * len(X_test)])\n",
    "valid_mask = np.concatenate([[False] * len(X_train), [True] * len(X_valid), [False] * len(X_test)])\n",
    "test_mask = np.concatenate([[False] * len(X_train), [False] * len(X_valid), [True] * len(X_test)])\n",
    "\n",
    "edge_index = torch.tensor(pd.read_csv(\"../result/network/%s.tsv\" % network_name, sep=\"\\t\", header=None).values.T)\n",
    "\n",
    "data = torch_geometric.data.Data(x=torch.tensor(X).float(), edge_index=edge_index, y=torch.tensor(Y).float())\n",
    "data.train_mask = torch.tensor(train_mask)\n",
    "data.valid_mask = torch.tensor(valid_mask)\n",
    "data.test_mask = torch.tensor(test_mask)\n",
    "\n",
    "device = torch.device('cuda' if torch.cuda.is_available() else 'cpu')\n",
    "data = data.to(device)"
   ]
  },
  {
   "cell_type": "code",
   "execution_count": null,
   "id": "0f3037d5",
   "metadata": {},
   "outputs": [],
   "source": [
    "from torch_geometric.nn import SGConv\n",
    "\n",
    "class GCN(torch.nn.Module):\n",
    "    def __init__(self, GCN_size1, GCN_size2):\n",
    "        super().__init__()\n",
    "        self.GCN_size1 = GCN_size1\n",
    "        self.GCN_size2 = GCN_size2\n",
    "        \n",
    "        self.conv1 = SGConv(1969, self.GCN_size1, K=2)\n",
    "        self.fc1 = torch.nn.Linear(self.GCN_size1, self.GCN_size2)\n",
    "        self.fc2 = torch.nn.Linear(self.GCN_size2, 1)\n",
    "\n",
    "    def forward(self, data):\n",
    "        x, edge_index = data.x, data.edge_index\n",
    "\n",
    "        x1 = self.conv1(x, edge_index)\n",
    "        x = torch.tanh(x1)\n",
    "        x = self.fc1(x)\n",
    "        x = torch.tanh(x)\n",
    "        x = self.fc2(x)       \n",
    "        return x, x1"
   ]
  },
  {
   "cell_type": "code",
   "execution_count": null,
   "id": "b0a24cf7",
   "metadata": {},
   "outputs": [],
   "source": [
    "torch_geometric.seed.seed_everything(100)\n",
    "\n",
    "# the general best para from previous results\n",
    "best_para = (256, 128)\n",
    "\n",
    "model = GCN(best_para[0], best_para[1]).to(device)\n",
    "optimizer = torch.optim.Adam(model.parameters(), lr=0.0001, weight_decay=5e-4)\n",
    "\n",
    "model.train()\n",
    "\n",
    "es_test_loss = 1000\n",
    "stop_count = 0\n",
    "train_loss_list = []\n",
    "\n",
    "for epoch in range(200):\n",
    "    optimizer.zero_grad()\n",
    "    out, _ = model(data)\n",
    "    loss = F.mse_loss(out[data.train_mask | data.valid_mask | data.test_mask].view(-1), data.y[data.train_mask | data.valid_mask | data.test_mask])\n",
    "    loss.backward()\n",
    "    optimizer.step()\n",
    "\n",
    "    train_loss_list.append(loss)\n",
    "\n",
    "    # the epoch with smallest valid loss\n",
    "    if loss < es_test_loss:\n",
    "        es_test_loss = loss\n",
    "        stop_count = 0\n",
    "    else:\n",
    "        stop_count+=1\n",
    "    \n",
    "    # allowance = 5\n",
    "    if stop_count > 5:\n",
    "        break"
   ]
  },
  {
   "cell_type": "code",
   "execution_count": null,
   "id": "93fafba6",
   "metadata": {},
   "outputs": [],
   "source": [
    "x, x1 = model(data)\n",
    "X1 = x1.detach().cpu().numpy()\n",
    "np.save(\"../result/X1.npy\", X1) # save emb\n",
    "torch.save(model.state_dict(), \"../result/model/DAGMA_DAG_best\") # save model"
   ]
  }
 ],
 "metadata": {
  "kernelspec": {
   "display_name": "Python 3 (ipykernel)",
   "language": "python",
   "name": "python3"
  },
  "language_info": {
   "codemirror_mode": {
    "name": "ipython",
    "version": 3
   },
   "file_extension": ".py",
   "mimetype": "text/x-python",
   "name": "python",
   "nbconvert_exporter": "python",
   "pygments_lexer": "ipython3",
   "version": "3.10.8"
  }
 },
 "nbformat": 4,
 "nbformat_minor": 5
}
