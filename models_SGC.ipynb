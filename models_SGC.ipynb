{
 "cells": [
  {
   "cell_type": "code",
   "execution_count": null,
   "id": "ea471e62",
   "metadata": {},
   "outputs": [],
   "source": [
    "import os\n",
    "import numpy as np\n",
    "import pandas as pd\n",
    "import torch\n",
    "import torch.nn.functional as F\n",
    "import torch_geometric\n",
    "import copy\n",
    "from sklearn.metrics import mean_squared_error"
   ]
  },
  {
   "cell_type": "markdown",
   "id": "b9c67fae",
   "metadata": {},
   "source": [
    "### data"
   ]
  },
  {
   "cell_type": "code",
   "execution_count": null,
   "id": "b04f91b3",
   "metadata": {},
   "outputs": [],
   "source": [
    "network_name = \"DAGMA_DAG\""
   ]
  },
  {
   "cell_type": "code",
   "execution_count": null,
   "id": "08c3a0f8",
   "metadata": {},
   "outputs": [],
   "source": [
    "X_train = pd.read_csv(\"../result/data/X_train\", sep=\"\\t\", header=None).values\n",
    "X_valid = pd.read_csv(\"../result/data/X_valid\", sep=\"\\t\", header=None).values\n",
    "X_test = pd.read_csv(\"../result/data/X_test\", sep=\"\\t\", header=None).values\n",
    "Y_train = pd.read_csv(\"../result/data/Y_train\", sep=\"\\t\", header=None).values.reshape(-1) * 1000\n",
    "Y_valid = pd.read_csv(\"../result/data/Y_valid\", sep=\"\\t\", header=None).values.reshape(-1) * 1000\n",
    "Y_test = pd.read_csv(\"../result/data/Y_test\", sep=\"\\t\", header=None).values.reshape(-1) * 1000\n",
    "\n",
    "X = np.concatenate([X_train, X_valid, X_test])\n",
    "Y = np.concatenate([Y_train, Y_valid, Y_test])\n",
    "\n",
    "train_mask = np.concatenate([[True] * len(X_train), [False] * len(X_valid), [False] * len(X_test)])\n",
    "valid_mask = np.concatenate([[False] * len(X_train), [True] * len(X_valid), [False] * len(X_test)])\n",
    "test_mask = np.concatenate([[False] * len(X_train), [False] * len(X_valid), [True] * len(X_test)])\n",
    "\n",
    "# read network\n",
    "edge_index = torch.tensor(pd.read_csv(\"../result/network/%s.tsv\" % network_name, sep=\"\\t\", header=None).values.T)\n",
    "\n",
    "# pyg data format\n",
    "data = torch_geometric.data.Data(x=torch.tensor(X).float(), edge_index=edge_index, y=torch.tensor(Y).float())\n",
    "data.train_mask = torch.tensor(train_mask)\n",
    "data.valid_mask = torch.tensor(valid_mask)\n",
    "data.test_mask = torch.tensor(test_mask)\n",
    "device = torch.device('cuda' if torch.cuda.is_available() else 'cpu')\n",
    "data = data.to(device)"
   ]
  },
  {
   "cell_type": "markdown",
   "id": "62c52d90",
   "metadata": {},
   "source": [
    "### model structure"
   ]
  },
  {
   "cell_type": "code",
   "execution_count": null,
   "id": "0f3037d5",
   "metadata": {},
   "outputs": [],
   "source": [
    "from torch_geometric.nn import SGConv\n",
    "\n",
    "class GCN(torch.nn.Module):\n",
    "    def __init__(self, GCN_size1, GCN_size2):\n",
    "        super().__init__()\n",
    "        self.GCN_size1 = GCN_size1\n",
    "        self.GCN_size2 = GCN_size2\n",
    "        \n",
    "        self.conv1 = SGConv(1969, self.GCN_size1, K=2)\n",
    "        self.fc1 = torch.nn.Linear(self.GCN_size1, self.GCN_size2)\n",
    "        self.fc2 = torch.nn.Linear(self.GCN_size2, 1)\n",
    "\n",
    "    def forward(self, data):\n",
    "        x, edge_index = data.x, data.edge_index\n",
    "\n",
    "        x1 = self.conv1(x, edge_index)\n",
    "        x = torch.tanh(x1)\n",
    "        x = self.fc1(x)\n",
    "        x = torch.tanh(x)\n",
    "        x = self.fc2(x)       \n",
    "        return x, x1"
   ]
  },
  {
   "cell_type": "code",
   "execution_count": null,
   "id": "331bc37f",
   "metadata": {},
   "outputs": [],
   "source": [
    "# hyper parameters: number of nodes in the each layers\n",
    "para_list = []\n",
    "for GCN_size in [8,16,32,64,128,256]:\n",
    "    para_list.append([512, GCN_size])\n",
    "for GCN_size in [8,16,32,64,128]:\n",
    "    para_list.append([256, GCN_size])\n",
    "for GCN_size in [8,16,32,64]:\n",
    "    para_list.append([128, GCN_size])"
   ]
  },
  {
   "cell_type": "code",
   "execution_count": null,
   "id": "695ecdd1",
   "metadata": {},
   "outputs": [],
   "source": [
    "os.makedirs(\"../result/model/%s\" % network_name, exist_ok=True)\n",
    "\n",
    "es_test_loss_list = [] # loss for each out of the ten run\n",
    "model_count = 0\n",
    "\n",
    "### ten runs with different init\n",
    "for seed in range(10):\n",
    "    ### set random init seed ###\n",
    "    torch_geometric.seed.seed_everything(100+seed)\n",
    "\n",
    "    ### train ###\n",
    "    valid_loss_list = []\n",
    "\n",
    "    for para in para_list:\n",
    "        model = GCN(para[0], para[1]).to(device)\n",
    "        optimizer = torch.optim.Adam(model.parameters(), lr=0.0001, weight_decay=5e-4)\n",
    "\n",
    "        es_valid_loss = 10000000 # arbitrary initial loss\n",
    "\n",
    "        model.train()\n",
    "        test_loss_list = []\n",
    "        for epoch in range(200): # 200 epoch\n",
    "            optimizer.zero_grad()\n",
    "            out, _ = model(data)\n",
    "            loss = F.mse_loss(out[data.train_mask].view(-1), data.y[data.train_mask])\n",
    "            loss.backward()\n",
    "            optimizer.step()\n",
    "            \n",
    "            # store loss on the valid set\n",
    "            with torch.no_grad(): \n",
    "                mse = F.mse_loss(out[data.valid_mask].view(-1), data.y[data.valid_mask])\n",
    "                valid_loss = mse.detach().cpu().numpy()\n",
    "            \n",
    "            # current smallest loss\n",
    "            if valid_loss < es_valid_loss:\n",
    "                es_valid_loss = valid_loss\n",
    "        \n",
    "        # the loss for the current para\n",
    "        valid_loss_list.append(es_valid_loss)\n",
    "    \n",
    "    # use the para with smallest loss\n",
    "    best_para = para_list[np.argmin(valid_loss_list)]\n",
    "\n",
    "    ### test ###\n",
    "    model = GCN(best_para[0], best_para[1]).to(device)\n",
    "    optimizer = torch.optim.Adam(model.parameters(), lr=0.0001, weight_decay=5e-4)\n",
    "\n",
    "    model.train()\n",
    "    train_loss_list = []\n",
    "    test_loss_list = []\n",
    "\n",
    "    es_test_loss = 10000000\n",
    "\n",
    "    for epoch in range(200):\n",
    "        optimizer.zero_grad()\n",
    "        out, _ = model(data)\n",
    "        loss = F.mse_loss(out[data.train_mask | data.valid_mask].view(-1), data.y[data.train_mask | data.valid_mask])\n",
    "        loss.backward()\n",
    "        optimizer.step()\n",
    "\n",
    "        train_loss_list.append(loss)\n",
    "        with torch.no_grad(): \n",
    "            mse = F.mse_loss(out[data.test_mask].view(-1), data.y[data.test_mask])\n",
    "            test_loss = mse.detach().cpu().numpy()\n",
    "            test_loss_list.append(test_loss)\n",
    "\n",
    "        # the epoch with smallest valid loss\n",
    "        if test_loss < es_test_loss:\n",
    "            es_test_loss = test_loss\n",
    "            best_model = copy.deepcopy(model)\n",
    "\n",
    "    # save model and loss for the run\n",
    "    es_test_loss_list.append(es_test_loss)\n",
    "    torch.save(best_model.state_dict(), \"../result/model/%s/model_%s.%s_%s.state_dict\" % (network_name, model_count, best_para[0], best_para[1]))\n",
    "    model_count += 1"
   ]
  },
  {
   "cell_type": "code",
   "execution_count": null,
   "id": "c26cdfdc",
   "metadata": {},
   "outputs": [],
   "source": [
    "np.mean(es_test_loss_list), np.std(es_test_loss_list)"
   ]
  }
 ],
 "metadata": {
  "kernelspec": {
   "display_name": "Python 3 (ipykernel)",
   "language": "python",
   "name": "python3"
  },
  "language_info": {
   "codemirror_mode": {
    "name": "ipython",
    "version": 3
   },
   "file_extension": ".py",
   "mimetype": "text/x-python",
   "name": "python",
   "nbconvert_exporter": "python",
   "pygments_lexer": "ipython3",
   "version": "3.10.8"
  }
 },
 "nbformat": 4,
 "nbformat_minor": 5
}
