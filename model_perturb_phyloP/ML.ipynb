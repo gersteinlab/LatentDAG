{
 "cells": [
  {
   "cell_type": "code",
   "execution_count": 1,
   "id": "c319416d",
   "metadata": {},
   "outputs": [],
   "source": [
    "import numpy as np\n",
    "import pandas as pd\n",
    "import joblib\n",
    "import matplotlib.pyplot as plt\n",
    "from sklearn.metrics import mean_squared_error\n",
    "from scipy.stats import pearsonr"
   ]
  },
  {
   "cell_type": "code",
   "execution_count": 2,
   "id": "005afca5",
   "metadata": {},
   "outputs": [],
   "source": [
    "from sklearn.linear_model import Lasso\n",
    "from sklearn.linear_model import LinearRegression"
   ]
  },
  {
   "cell_type": "markdown",
   "id": "57c8d86d",
   "metadata": {},
   "source": [
    "### lasso"
   ]
  },
  {
   "cell_type": "code",
   "execution_count": 5,
   "id": "a57b8cec",
   "metadata": {},
   "outputs": [],
   "source": [
    "mse_final_list = []\n",
    "p_final_list = []\n",
    "\n",
    "for rs in range(10):\n",
    "    # read data\n",
    "    X_train = pd.read_csv(\"../../result/input_perturb_phyloP/%d/X_train_stratified\" % rs, sep=\"\\t\", index_col=0).values\n",
    "    X_valid = pd.read_csv(\"../../result/input_perturb_phyloP/%d/X_valid_stratified\" % rs, sep=\"\\t\", index_col=0).values\n",
    "    X_test = pd.read_csv(\"../../result/input_perturb_phyloP/%d/X_test_stratified\" % rs, sep=\"\\t\", index_col=0).values\n",
    "    Y_train = pd.read_csv(\"../../result/input_perturb_phyloP/%d/Y_train_stratified\" % rs, sep=\"\\t\", index_col=0).values.reshape(-1)\n",
    "    Y_valid = pd.read_csv(\"../../result/input_perturb_phyloP/%d/Y_valid_stratified\" % rs, sep=\"\\t\", index_col=0).values.reshape(-1)\n",
    "    Y_test = pd.read_csv(\"../../result/input_perturb_phyloP/%d/Y_test_stratified\" % rs, sep=\"\\t\", index_col=0).values.reshape(-1)\n",
    "    Y_test_gene = pd.read_csv(\"../../result/input_perturb_phyloP/%d/Y_test_stratified\" % rs, sep=\"\\t\", index_col=0).index\n",
    "\n",
    "    dag = pd.read_csv(\"../../result/network_perturb_phyloP/DAGMA_thresholdAdaptive.tsv\", sep=\"\\t\", header=None)\n",
    "    id2genes = pd.read_csv(\"../../result/network_perturb_phyloP/valid_genes\", sep=\"\\t\").set_index(\"ID\")['genes'].to_dict()\n",
    "    dag[0] = dag[0].map(id2genes)\n",
    "    dag[1] = dag[1].map(id2genes)\n",
    "    dag_genes = list(set.union(set(dag[0]), set(dag[1])))\n",
    "    test_inDAG = Y_test_gene.isin(dag_genes)\n",
    "    \n",
    "    # model\n",
    "    para_list = np.arange(0.01,0.2,0.01)\n",
    "\n",
    "    mse_list = []\n",
    "    for alpha in para_list:\n",
    "        lr = Lasso(alpha=alpha)\n",
    "        lr.fit(X_train, Y_train)\n",
    "        y_valid_pred = lr.predict(X_valid)\n",
    "        mse_list.append(mean_squared_error(Y_valid, y_valid_pred))\n",
    "    best_para = para_list[np.argmin(mse_list)]\n",
    "\n",
    "    lr = Lasso(alpha=best_para)\n",
    "    lr.fit(np.concatenate([X_train, X_valid]), np.concatenate([Y_train, Y_valid]))\n",
    "    Y_pred = lr.predict(X_test)\n",
    "    mse_final_list.append(mean_squared_error(Y_test, Y_pred))\n",
    "    p_final_list.append(pearsonr(Y_test, Y_pred))"
   ]
  },
  {
   "cell_type": "code",
   "execution_count": 6,
   "id": "92626dcf",
   "metadata": {},
   "outputs": [
    {
     "data": {
      "text/plain": [
       "(0.16361379220214434, 0.061838294547170075)"
      ]
     },
     "execution_count": 6,
     "metadata": {},
     "output_type": "execute_result"
    }
   ],
   "source": [
    "np.mean(mse_final_list), np.std(mse_final_list)"
   ]
  },
  {
   "cell_type": "code",
   "execution_count": 7,
   "id": "0c78e29e",
   "metadata": {
    "scrolled": true
   },
   "outputs": [
    {
     "data": {
      "text/plain": [
       "(0.1612640836099545, 0.164969210231839)"
      ]
     },
     "execution_count": 7,
     "metadata": {},
     "output_type": "execute_result"
    }
   ],
   "source": [
    "np.mean(p_final_list), np.std(p_final_list)"
   ]
  },
  {
   "cell_type": "markdown",
   "id": "633f5a3e",
   "metadata": {},
   "source": [
    "### linear"
   ]
  },
  {
   "cell_type": "code",
   "execution_count": 8,
   "id": "c3a85e9c",
   "metadata": {},
   "outputs": [],
   "source": [
    "mse_final_list = []\n",
    "p_final_list = []\n",
    "\n",
    "for rs in range(10):\n",
    "    # read data\n",
    "    X_train = pd.read_csv(\"../../result/input_perturb_phyloP/%d/X_train_stratified\" % rs, sep=\"\\t\", index_col=0).values\n",
    "    X_valid = pd.read_csv(\"../../result/input_perturb_phyloP/%d/X_valid_stratified\" % rs, sep=\"\\t\", index_col=0).values\n",
    "    X_test = pd.read_csv(\"../../result/input_perturb_phyloP/%d/X_test_stratified\" % rs, sep=\"\\t\", index_col=0).values\n",
    "    Y_train = pd.read_csv(\"../../result/input_perturb_phyloP/%d/Y_train_stratified\" % rs, sep=\"\\t\", index_col=0).values.reshape(-1)\n",
    "    Y_valid = pd.read_csv(\"../../result/input_perturb_phyloP/%d/Y_valid_stratified\" % rs, sep=\"\\t\", index_col=0).values.reshape(-1)\n",
    "    Y_test = pd.read_csv(\"../../result/input_perturb_phyloP/%d/Y_test_stratified\" % rs, sep=\"\\t\", index_col=0).values.reshape(-1)\n",
    "    Y_test_gene = pd.read_csv(\"../../result/input_perturb_phyloP/%d/Y_test_stratified\" % rs, sep=\"\\t\", index_col=0).index\n",
    "\n",
    "    dag = pd.read_csv(\"../../result/network_perturb_phyloP/DAGMA_thresholdAdaptive.tsv\", sep=\"\\t\", header=None)\n",
    "    id2genes = pd.read_csv(\"../../result/network_perturb_phyloP/valid_genes\", sep=\"\\t\").set_index(\"ID\")['genes'].to_dict()\n",
    "    dag[0] = dag[0].map(id2genes)\n",
    "    dag[1] = dag[1].map(id2genes)\n",
    "    dag_genes = list(set.union(set(dag[0]), set(dag[1])))\n",
    "    test_inDAG = Y_test_gene.isin(dag_genes)\n",
    "    \n",
    "    # model\n",
    "    \n",
    "    lr = LinearRegression()\n",
    "    lr.fit(np.concatenate([X_train, X_valid]), np.concatenate([Y_train, Y_valid]))\n",
    "    Y_pred = lr.predict(X_test)\n",
    "    mse_final_list.append(mean_squared_error(Y_test, Y_pred))\n",
    "    p_final_list.append(pearsonr(Y_test, Y_pred))"
   ]
  },
  {
   "cell_type": "code",
   "execution_count": 9,
   "id": "903f3b1c",
   "metadata": {},
   "outputs": [
    {
     "data": {
      "text/plain": [
       "(2.091870480229457, 0.2278779535009667)"
      ]
     },
     "execution_count": 9,
     "metadata": {},
     "output_type": "execute_result"
    }
   ],
   "source": [
    "np.mean(mse_final_list), np.std(mse_final_list)"
   ]
  },
  {
   "cell_type": "code",
   "execution_count": 10,
   "id": "421b6d55",
   "metadata": {},
   "outputs": [
    {
     "data": {
      "text/plain": [
       "(0.177622474275748, 0.2249316084587924)"
      ]
     },
     "execution_count": 10,
     "metadata": {},
     "output_type": "execute_result"
    }
   ],
   "source": [
    "np.mean(p_final_list), np.std(p_final_list)"
   ]
  }
 ],
 "metadata": {
  "kernelspec": {
   "display_name": "Python 3 (ipykernel)",
   "language": "python",
   "name": "python3"
  },
  "language_info": {
   "codemirror_mode": {
    "name": "ipython",
    "version": 3
   },
   "file_extension": ".py",
   "mimetype": "text/x-python",
   "name": "python",
   "nbconvert_exporter": "python",
   "pygments_lexer": "ipython3",
   "version": "3.8.16"
  }
 },
 "nbformat": 4,
 "nbformat_minor": 5
}
